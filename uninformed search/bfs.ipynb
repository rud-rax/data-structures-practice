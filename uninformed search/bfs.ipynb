{
 "cells": [
  {
   "cell_type": "code",
   "execution_count": 8,
   "metadata": {},
   "outputs": [],
   "source": [
    "class Graph() :\n",
    "    def __init__(self, graph = {}) :\n",
    "        self.graph = graph\n",
    "        self.nodes = 0\n",
    "\n",
    "    def  addNode(self, node) :\n",
    "        self.graph[node] = []\n",
    "        self.nodes +=1\n",
    "\n",
    "    def addEdge(self, node , neighbours ) :\n",
    "        for n in neighbours :\n",
    "            self.graph[node].append(n)\n"
   ]
  },
  {
   "cell_type": "code",
   "execution_count": 9,
   "metadata": {},
   "outputs": [],
   "source": [
    "g = Graph()\n",
    "\n"
   ]
  },
  {
   "cell_type": "code",
   "execution_count": 10,
   "metadata": {},
   "outputs": [
    {
     "data": {
      "text/plain": [
       "{}"
      ]
     },
     "execution_count": 10,
     "metadata": {},
     "output_type": "execute_result"
    }
   ],
   "source": [
    "g.graph"
   ]
  },
  {
   "cell_type": "code",
   "execution_count": 11,
   "metadata": {},
   "outputs": [],
   "source": [
    "g.addNode(\"A\")\n",
    "g.addNode(\"B\")\n",
    "g.addNode(\"C\")\n",
    "g.addNode(\"D\")\n",
    "# g.addNode(\"E\")\n",
    "g.addNode(\"F\")\n",
    "g.addNode(\"G\")"
   ]
  },
  {
   "cell_type": "code",
   "execution_count": 12,
   "metadata": {},
   "outputs": [],
   "source": [
    "g.addEdge(\"A\" , [\"B\" , \"C\"])\n",
    "g.addEdge(\"B\" , [\"A\" , \"D\",\"G\"])\n",
    "g.addEdge(\"C\" , [\"A\" ,\"G\",\"F\"])\n",
    "g.addEdge(\"D\" , [\"B\" , \"G\"])\n",
    "g.addEdge(\"F\" , [\"C\" , \"G\"])\n"
   ]
  },
  {
   "cell_type": "code",
   "execution_count": 13,
   "metadata": {},
   "outputs": [
    {
     "data": {
      "text/plain": [
       "{'A': ['B', 'C'],\n",
       " 'B': ['A', 'D', 'G'],\n",
       " 'C': ['A', 'G', 'F'],\n",
       " 'D': ['B', 'G'],\n",
       " 'F': ['C', 'G'],\n",
       " 'G': []}"
      ]
     },
     "execution_count": 13,
     "metadata": {},
     "output_type": "execute_result"
    }
   ],
   "source": [
    "g.graph"
   ]
  },
  {
   "cell_type": "code",
   "execution_count": 14,
   "metadata": {},
   "outputs": [],
   "source": [
    " \n",
    "\n",
    "def BFS (graph , start , goal) :\n",
    "    \n",
    "    OPEN = [start]\n",
    "    CLOSED = []\n",
    "\n",
    "    while len(OPEN) > 0 :\n",
    "\n",
    "        n = OPEN.pop(0)\n",
    "        CLOSED.append(n)\n",
    "\n",
    "        if n == goal :\n",
    "            return CLOSED\n",
    "\n",
    "        for node in graph[n] :\n",
    "            if node not in OPEN and node not in CLOSED :\n",
    "                OPEN.append(node)\n",
    "\n",
    "\n",
    "\n",
    "    return CLOSED\n",
    "        \n",
    "\n",
    "\n"
   ]
  },
  {
   "cell_type": "code",
   "execution_count": 15,
   "metadata": {},
   "outputs": [
    {
     "name": "stdout",
     "output_type": "stream",
     "text": [
      "['A', 'B', 'C', 'D', 'G']\n"
     ]
    }
   ],
   "source": [
    "path = BFS(g.graph , \"A\" , \"G\")\n",
    "print(path)"
   ]
  },
  {
   "cell_type": "code",
   "execution_count": null,
   "metadata": {},
   "outputs": [],
   "source": []
  }
 ],
 "metadata": {
  "interpreter": {
   "hash": "0d591c6e422414675974e227c13f5382000c440fedd3c5006ef2be5d887f0ba7"
  },
  "kernelspec": {
   "display_name": "Python 3.9.7 64-bit",
   "language": "python",
   "name": "python3"
  },
  "language_info": {
   "codemirror_mode": {
    "name": "ipython",
    "version": 3
   },
   "file_extension": ".py",
   "mimetype": "text/x-python",
   "name": "python",
   "nbconvert_exporter": "python",
   "pygments_lexer": "ipython3",
   "version": "3.9.7"
  },
  "orig_nbformat": 4
 },
 "nbformat": 4,
 "nbformat_minor": 2
}
