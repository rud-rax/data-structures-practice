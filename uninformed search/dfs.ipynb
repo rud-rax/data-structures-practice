{
 "cells": [
  {
   "cell_type": "code",
   "execution_count": 2,
   "metadata": {},
   "outputs": [],
   "source": [
    "class Node():\n",
    "    def __init__(self, data ,neighbours = []) :\n",
    "        self.data = data\n",
    "        self.neighbours = neighbours\n",
    "\n",
    "    def addNeigbours(self,l) :\n",
    "        for node in l :\n",
    "            self.neighbours.append(node)"
   ]
  },
  {
   "cell_type": "code",
   "execution_count": 3,
   "metadata": {},
   "outputs": [],
   "source": [
    "n1 = Node(\"A\")\n"
   ]
  },
  {
   "cell_type": "code",
   "execution_count": 4,
   "metadata": {},
   "outputs": [
    {
     "data": {
      "text/plain": [
       "'A'"
      ]
     },
     "execution_count": 4,
     "metadata": {},
     "output_type": "execute_result"
    }
   ],
   "source": [
    "n1.data"
   ]
  },
  {
   "cell_type": "code",
   "execution_count": 5,
   "metadata": {},
   "outputs": [
    {
     "data": {
      "text/plain": [
       "[]"
      ]
     },
     "execution_count": 5,
     "metadata": {},
     "output_type": "execute_result"
    }
   ],
   "source": [
    "n1.neighbours"
   ]
  },
  {
   "cell_type": "code",
   "execution_count": 81,
   "metadata": {},
   "outputs": [],
   "source": [
    "class Graph() :\n",
    "    def __init__(self, graph = {}) :\n",
    "        self.graph = graph\n",
    "        self.nodes = 0\n",
    "\n",
    "    def  addNode(self, node) :\n",
    "        self.graph[node] = []\n",
    "        self.nodes +=1\n",
    "\n",
    "    def addEdge(self, node , neighbours ) :\n",
    "        for n in neighbours :\n",
    "            self.graph[node].append(n)\n"
   ]
  },
  {
   "cell_type": "code",
   "execution_count": 82,
   "metadata": {},
   "outputs": [
    {
     "data": {
      "text/plain": [
       "0"
      ]
     },
     "execution_count": 82,
     "metadata": {},
     "output_type": "execute_result"
    }
   ],
   "source": [
    "g = Graph()\n",
    "g.nodes"
   ]
  },
  {
   "cell_type": "code",
   "execution_count": 83,
   "metadata": {},
   "outputs": [
    {
     "data": {
      "text/plain": [
       "{}"
      ]
     },
     "execution_count": 83,
     "metadata": {},
     "output_type": "execute_result"
    }
   ],
   "source": [
    "g.graph"
   ]
  },
  {
   "cell_type": "code",
   "execution_count": 13,
   "metadata": {},
   "outputs": [],
   "source": []
  },
  {
   "cell_type": "code",
   "execution_count": 70,
   "metadata": {},
   "outputs": [
    {
     "data": {
      "text/plain": [
       "{}"
      ]
     },
     "execution_count": 70,
     "metadata": {},
     "output_type": "execute_result"
    }
   ],
   "source": [
    "g.graph"
   ]
  },
  {
   "cell_type": "code",
   "execution_count": 84,
   "metadata": {},
   "outputs": [],
   "source": [
    "g.addNode(\"A\")\n",
    "g.addNode(\"B\")\n",
    "g.addNode(\"C\")\n",
    "g.addNode(\"D\")\n",
    "g.addNode(\"E\")\n",
    "g.addNode(\"F\")\n",
    "g.addNode(\"G\")"
   ]
  },
  {
   "cell_type": "code",
   "execution_count": 85,
   "metadata": {},
   "outputs": [],
   "source": [
    "g.addEdge(\"A\" , [\"B\" , \"C\"])\n",
    "g.addEdge(\"B\" , [\"A\" , \"D\",\"G\"])\n",
    "g.addEdge(\"C\" , [\"A\" ,\"G\",\"F\"])\n",
    "g.addEdge(\"D\" , [\"B\" , \"G\"])\n",
    "g.addEdge(\"F\" , [\"C\" , \"G\"])\n",
    "\n",
    "\n",
    "\n"
   ]
  },
  {
   "cell_type": "code",
   "execution_count": 86,
   "metadata": {},
   "outputs": [
    {
     "data": {
      "text/plain": [
       "{'A': ['B', 'C'],\n",
       " 'B': ['A', 'D', 'G'],\n",
       " 'C': ['A', 'G', 'F'],\n",
       " 'D': ['B', 'G'],\n",
       " 'E': [],\n",
       " 'F': ['C', 'G'],\n",
       " 'G': []}"
      ]
     },
     "execution_count": 86,
     "metadata": {},
     "output_type": "execute_result"
    }
   ],
   "source": [
    "g.graph"
   ]
  },
  {
   "cell_type": "code",
   "execution_count": 37,
   "metadata": {},
   "outputs": [
    {
     "data": {
      "text/plain": [
       "'B'"
      ]
     },
     "execution_count": 37,
     "metadata": {},
     "output_type": "execute_result"
    }
   ],
   "source": [
    "g.graph[\"A\"].pop()\n",
    "g.graph[\"A\"].pop()\n"
   ]
  },
  {
   "cell_type": "code",
   "execution_count": 34,
   "metadata": {},
   "outputs": [],
   "source": [
    "# time complexity = O(V + E)|"
   ]
  },
  {
   "cell_type": "code",
   "execution_count": 89,
   "metadata": {},
   "outputs": [
    {
     "data": {
      "text/plain": [
       "{'A': ['B', 'C'],\n",
       " 'B': ['A', 'D', 'G'],\n",
       " 'C': ['A', 'G', 'F'],\n",
       " 'D': ['B', 'G'],\n",
       " 'E': [],\n",
       " 'F': ['C', 'G'],\n",
       " 'G': []}"
      ]
     },
     "execution_count": 89,
     "metadata": {},
     "output_type": "execute_result"
    }
   ],
   "source": [
    "g.graph"
   ]
  },
  {
   "cell_type": "code",
   "execution_count": 87,
   "metadata": {},
   "outputs": [],
   "source": [
    "def DFS(graph , start , goal) :\n",
    "\n",
    "    # print(graph)\n",
    "    OPEN = [start]\n",
    "    CLOSED = []\n",
    "\n",
    "    while len(OPEN) > 0 :\n",
    "        n = OPEN.pop()\n",
    "        CLOSED.append(n)\n",
    "\n",
    "        if n == goal  :\n",
    "            # CLOSED.append(n)\n",
    "            return CLOSED\n",
    "\n",
    "        for node in graph[n] :\n",
    "            if node not in CLOSED and node not in OPEN:\n",
    "                # print(node)\n",
    "                OPEN.append(node)\n",
    "\n",
    "        # print(n)\n",
    "        \n",
    "\n",
    "    return CLOSED\n",
    "\n",
    "\n",
    "\n",
    "\n",
    "\n",
    "\n"
   ]
  },
  {
   "cell_type": "code",
   "execution_count": 88,
   "metadata": {},
   "outputs": [
    {
     "name": "stdout",
     "output_type": "stream",
     "text": [
      "A\n",
      "C\n",
      "F\n",
      "['A', 'C', 'F', 'G']\n"
     ]
    }
   ],
   "source": [
    "path = DFS(g.graph , \"A\" ,\"G\")\n",
    "print(path)"
   ]
  },
  {
   "cell_type": "code",
   "execution_count": 90,
   "metadata": {},
   "outputs": [
    {
     "data": {
      "text/plain": [
       "['B', 'C']"
      ]
     },
     "execution_count": 90,
     "metadata": {},
     "output_type": "execute_result"
    }
   ],
   "source": [
    "g.graph[\"A\"]"
   ]
  },
  {
   "cell_type": "code",
   "execution_count": null,
   "metadata": {},
   "outputs": [],
   "source": []
  }
 ],
 "metadata": {
  "interpreter": {
   "hash": "0d591c6e422414675974e227c13f5382000c440fedd3c5006ef2be5d887f0ba7"
  },
  "kernelspec": {
   "display_name": "Python 3.9.7 64-bit",
   "language": "python",
   "name": "python3"
  },
  "language_info": {
   "codemirror_mode": {
    "name": "ipython",
    "version": 3
   },
   "file_extension": ".py",
   "mimetype": "text/x-python",
   "name": "python",
   "nbconvert_exporter": "python",
   "pygments_lexer": "ipython3",
   "version": "3.9.7"
  },
  "orig_nbformat": 4
 },
 "nbformat": 4,
 "nbformat_minor": 2
}
