{
 "cells": [
  {
   "cell_type": "code",
   "execution_count": 21,
   "metadata": {},
   "outputs": [],
   "source": [
    "\n",
    "\n",
    "class Item() :\n",
    "    def __init__(self , weight , profit , name = \"\" ) :\n",
    "        self.weight = weight\n",
    "        self.profit = profit\n",
    "        self.name = name\n",
    "        self.pbw = self.profit / self.weight\n",
    "\n",
    "    def __lt__(self, item ) :\n",
    "        return self.profit < item.profit\n"
   ]
  },
  {
   "cell_type": "code",
   "execution_count": 22,
   "metadata": {},
   "outputs": [],
   "source": [
    "\n",
    "store = [\n",
    "    Item(2 , 1),\n",
    "    Item(3 , 2),\n",
    "    Item(4 , 5),\n",
    "    Item(5 , 6)\n",
    "]\n",
    "\n",
    "M = 8"
   ]
  },
  {
   "cell_type": "code",
   "execution_count": 23,
   "metadata": {},
   "outputs": [],
   "source": [
    "import numpy as np"
   ]
  },
  {
   "cell_type": "code",
   "execution_count": 24,
   "metadata": {},
   "outputs": [
    {
     "data": {
      "text/plain": [
       "array([[0, 0, 0, 0, 0, 0, 0, 0, 0],\n",
       "       [0, 0, 0, 0, 0, 0, 0, 0, 0],\n",
       "       [0, 0, 0, 0, 0, 0, 0, 0, 0],\n",
       "       [0, 0, 0, 0, 0, 0, 0, 0, 0],\n",
       "       [0, 0, 0, 0, 0, 0, 0, 0, 0]], dtype=int8)"
      ]
     },
     "execution_count": 24,
     "metadata": {},
     "output_type": "execute_result"
    }
   ],
   "source": [
    "V = np.zeros((len(store) + 1 , M + 1) , np.int8)\n",
    "V"
   ]
  },
  {
   "cell_type": "code",
   "execution_count": 26,
   "metadata": {},
   "outputs": [
    {
     "ename": "IndexError",
     "evalue": "index 5 is out of bounds for axis 0 with size 5",
     "output_type": "error",
     "traceback": [
      "\u001b[0;31m---------------------------------------------------------------------------\u001b[0m",
      "\u001b[0;31mIndexError\u001b[0m                                Traceback (most recent call last)",
      "Cell \u001b[0;32mIn [26], line 5\u001b[0m\n\u001b[1;32m      2\u001b[0m \u001b[39mfor\u001b[39;00m w \u001b[39min\u001b[39;00m \u001b[39mrange\u001b[39m(M\u001b[39m+\u001b[39m\u001b[39m1\u001b[39m) :\n\u001b[1;32m      4\u001b[0m     \u001b[39mif\u001b[39;00m i \u001b[39m==\u001b[39m \u001b[39m0\u001b[39m \u001b[39mor\u001b[39;00m w \u001b[39m==\u001b[39m \u001b[39m0\u001b[39m :\n\u001b[0;32m----> 5\u001b[0m         V[i][w] \u001b[39m=\u001b[39m \u001b[39m0\u001b[39m \n\u001b[1;32m      7\u001b[0m     \u001b[39melif\u001b[39;00m ( store[i\u001b[39m-\u001b[39m\u001b[39m1\u001b[39m]\u001b[39m.\u001b[39mweight \u001b[39m<\u001b[39m\u001b[39m=\u001b[39m w) :\n\u001b[1;32m      8\u001b[0m         V[i][w] \u001b[39m=\u001b[39m \u001b[39mmax\u001b[39m(V[i\u001b[39m-\u001b[39m\u001b[39m1\u001b[39m][w] , V[i\u001b[39m-\u001b[39m\u001b[39m1\u001b[39m][w \u001b[39m-\u001b[39m store[i\u001b[39m-\u001b[39m\u001b[39m1\u001b[39m]\u001b[39m.\u001b[39mweight] \u001b[39m+\u001b[39m store[i\u001b[39m-\u001b[39m\u001b[39m1\u001b[39m]\u001b[39m.\u001b[39mprofit)\n",
      "\u001b[0;31mIndexError\u001b[0m: index 5 is out of bounds for axis 0 with size 5"
     ]
    }
   ],
   "source": [
    "for i in range(len(V) + 1) : \n",
    "    for w in range(M+1) :\n",
    "\n",
    "        if i == 0 or w == 0 :\n",
    "            V[i][w] = 0 \n",
    "        \n",
    "        elif ( store[i-1].weight <= w) :\n",
    "            V[i][w] = max(V[i-1][w] , V[i-1][w - store[i-1].weight] + store[i-1].profit)\n",
    "        else :\n",
    "            V[i-1][w] = 0 \n",
    "\n",
    "        \n"
   ]
  },
  {
   "cell_type": "code",
   "execution_count": 20,
   "metadata": {},
   "outputs": [
    {
     "data": {
      "text/plain": [
       "array([[0, 0, 0, 0, 0, 0, 0, 0, 0],\n",
       "       [0, 0, 1, 1, 1, 1, 1, 1, 1],\n",
       "       [0, 0, 0, 2, 2, 3, 3, 3, 3],\n",
       "       [0, 0, 0, 0, 5, 5, 5, 7, 7],\n",
       "       [0, 0, 0, 0, 0, 6, 6, 7, 7]], dtype=int8)"
      ]
     },
     "execution_count": 20,
     "metadata": {},
     "output_type": "execute_result"
    }
   ],
   "source": [
    "V"
   ]
  },
  {
   "cell_type": "code",
   "execution_count": 40,
   "metadata": {},
   "outputs": [
    {
     "name": "stdout",
     "output_type": "stream",
     "text": [
      "8\n"
     ]
    }
   ],
   "source": [
    "\n",
    "\n",
    "\n",
    "\n",
    "val = [1,2,5,6]\n",
    "wt = [2,3,4,5]\n",
    "W = 8\n",
    "\n",
    "n = len(store)\n",
    "\n",
    "\n",
    "\n",
    "\n",
    "# K = [[0 for x in range(W + 1)] for x in range(n + 1)]\n",
    "K = np.zeros((n+1 , W+1) , np.int8)\n",
    "\n",
    "\n",
    "for i in range(n + 1):\n",
    "\tfor w in range(W + 1):\n",
    "\t\tif i == 0 or w == 0:\n",
    "\t\t\tK[i][w] = 0\n",
    "\t\telif wt[i-1] <= w:\n",
    "\t\t\tK[i][w] = max(store[i-1].profit\n",
    "\t\t\t\t\t+ K[i-1][w - store[i-1].weight],\n",
    "\t\t\t\t\t\tK[i-1][w])\n",
    "\t\telse:\n",
    "\t\t\tK[i][w] = K[i-1][w]\n",
    "\n",
    "print(K[n][W])\n",
    "\n"
   ]
  },
  {
   "cell_type": "code",
   "execution_count": 41,
   "metadata": {},
   "outputs": [
    {
     "name": "stdout",
     "output_type": "stream",
     "text": [
      "[0 0 0 0 0 0 0 0 0]\n",
      "[0 0 1 1 1 1 1 1 1]\n",
      "[0 0 1 2 2 3 3 3 3]\n",
      "[0 0 1 2 5 5 6 7 7]\n",
      "[0 0 1 2 5 6 6 7 8]\n"
     ]
    }
   ],
   "source": [
    "for row in K :\n",
    "    print(row)"
   ]
  },
  {
   "cell_type": "code",
   "execution_count": null,
   "metadata": {},
   "outputs": [],
   "source": [
    "\n"
   ]
  },
  {
   "cell_type": "code",
   "execution_count": null,
   "metadata": {},
   "outputs": [],
   "source": []
  },
  {
   "cell_type": "code",
   "execution_count": null,
   "metadata": {},
   "outputs": [],
   "source": []
  }
 ],
 "metadata": {
  "kernelspec": {
   "display_name": "Python 3.9.6 64-bit",
   "language": "python",
   "name": "python3"
  },
  "language_info": {
   "codemirror_mode": {
    "name": "ipython",
    "version": 3
   },
   "file_extension": ".py",
   "mimetype": "text/x-python",
   "name": "python",
   "nbconvert_exporter": "python",
   "pygments_lexer": "ipython3",
   "version": "3.9.6"
  },
  "orig_nbformat": 4,
  "vscode": {
   "interpreter": {
    "hash": "31f2aee4e71d21fbe5cf8b01ff0e069b9275f58929596ceb00d14d90e3e16cd6"
   }
  }
 },
 "nbformat": 4,
 "nbformat_minor": 2
}
