{
 "cells": [
  {
   "cell_type": "code",
   "execution_count": 11,
   "metadata": {},
   "outputs": [
    {
     "name": "stdout",
     "output_type": "stream",
     "text": [
      "MATRIX 1 : \n"
     ]
    },
    {
     "ename": "ValueError",
     "evalue": "not enough values to unpack (expected 2, got 0)",
     "output_type": "error",
     "traceback": [
      "\u001b[0;31m---------------------------------------------------------------------------\u001b[0m",
      "\u001b[0;31mValueError\u001b[0m                                Traceback (most recent call last)",
      "Cell \u001b[0;32mIn [11], line 19\u001b[0m\n\u001b[1;32m     16\u001b[0m     \u001b[39mreturn\u001b[39;00m arr\n\u001b[1;32m     18\u001b[0m \u001b[39mprint\u001b[39m(\u001b[39m\"\u001b[39m\u001b[39mMATRIX 1 : \u001b[39m\u001b[39m\"\u001b[39m)\n\u001b[0;32m---> 19\u001b[0m mat1 \u001b[39m=\u001b[39m define_matrix()\n\u001b[1;32m     21\u001b[0m \u001b[39mprint\u001b[39m(\u001b[39m\"\u001b[39m\u001b[39mMATRIX 2 : \u001b[39m\u001b[39m\"\u001b[39m)\n\u001b[1;32m     22\u001b[0m mat2 \u001b[39m=\u001b[39m define_matrix()\n",
      "Cell \u001b[0;32mIn [11], line 3\u001b[0m, in \u001b[0;36mdefine_matrix\u001b[0;34m()\u001b[0m\n\u001b[1;32m      1\u001b[0m \u001b[39mdef\u001b[39;00m \u001b[39mdefine_matrix\u001b[39m() : \n\u001b[0;32m----> 3\u001b[0m     rows, cols \u001b[39m=\u001b[39m \u001b[39mlist\u001b[39m(\u001b[39mmap\u001b[39m(\u001b[39mint\u001b[39m , \u001b[39minput\u001b[39m(\u001b[39m\"\u001b[39m\u001b[39mEnter Number of Rows and Columns -> \u001b[39m\u001b[39m\"\u001b[39m)\u001b[39m.\u001b[39mrstrip()\u001b[39m.\u001b[39msplit()))\n\u001b[1;32m      4\u001b[0m     \u001b[39mprint\u001b[39m(\u001b[39mf\u001b[39m\u001b[39m\"\u001b[39m\u001b[39mROWS - \u001b[39m\u001b[39m{\u001b[39;00mrows\u001b[39m}\u001b[39;00m\u001b[39m COLUMNS - \u001b[39m\u001b[39m{\u001b[39;00mcols\u001b[39m}\u001b[39;00m\u001b[39m\"\u001b[39m)\n\u001b[1;32m      6\u001b[0m     arr \u001b[39m=\u001b[39m []\n",
      "\u001b[0;31mValueError\u001b[0m: not enough values to unpack (expected 2, got 0)"
     ]
    }
   ],
   "source": [
    "\n",
    "def define_matrix() : \n",
    "\n",
    "    rows, cols = list(map(int , input(\"Enter Number of Rows and Columns -> \").rstrip().split()))\n",
    "    print(f\"ROWS - {rows} COLUMNS - {cols}\")\n",
    "\n",
    "    arr = []\n",
    "    for i in range(rows) :\n",
    "        temp = list(map(int , input(f\"{i}th row - \").rstrip().split()))\n",
    "        if len(temp) != cols :\n",
    "            print(\"Index Out of Bounds ! Column size didnt match\")\n",
    "            return \n",
    "        else :\n",
    "            arr.append(temp)\n",
    "\n",
    "    # print(arr)\n",
    "    return arr\n",
    "\n",
    "print(\"MATRIX 1 : \")\n",
    "mat1 = define_matrix()\n",
    "\n",
    "print(\"MATRIX 2 : \")\n",
    "mat2 = define_matrix()\n",
    "\n",
    "if len(mat1[0]) != len(mat2) :\n",
    "    print(\"Cant perform matrix multiplication as the number of columns in the first matrix must be equal to the number of rows in the second matrix.\")"
   ]
  },
  {
   "cell_type": "code",
   "execution_count": 12,
   "metadata": {},
   "outputs": [],
   "source": [
    "mat1 = [\n",
    "    [1,2,3],\n",
    "    [4,5,6],\n",
    "    [7,8,9]\n",
    "]\n",
    "\n",
    "mat2 = [\n",
    "    [2,3,4],\n",
    "    [6,7,8],\n",
    "    [7,1,3]\n",
    "]"
   ]
  },
  {
   "cell_type": "code",
   "execution_count": 10,
   "metadata": {},
   "outputs": [],
   "source": [
    "import numpy as np\n",
    "import time"
   ]
  },
  {
   "cell_type": "code",
   "execution_count": 3,
   "metadata": {},
   "outputs": [],
   "source": [
    "def calculateCell(matA , matB, pos , mulmat) :\n",
    "    ans = 0 \n",
    "    for k in range(len(matB)) :\n",
    "        ans += matA[pos[0]][k] * matB[k][pos[1]]\n",
    "    mulmat[pos[0]][pos[1]] = ans\n",
    "    time.sleep(1) # To make the computation time costly\n"
   ]
  },
  {
   "cell_type": "markdown",
   "metadata": {},
   "source": [
    "### Numpy Method - dot()"
   ]
  },
  {
   "cell_type": "code",
   "execution_count": 4,
   "metadata": {},
   "outputs": [
    {
     "name": "stdout",
     "output_type": "stream",
     "text": [
      "[[ 35  20  29]\n",
      " [ 80  53  74]\n",
      " [125  86 119]]\n",
      "Finished in 0.0005 second(s).\n"
     ]
    }
   ],
   "source": [
    "\n",
    "def numpy_method(matA , matB) : \n",
    "\n",
    "    return np.dot(matA , matB)\n",
    "\n",
    "start = time.perf_counter()\n",
    "\n",
    "mulmat = numpy_method(mat1 , mat2)\n",
    "print(mulmat)\n",
    "\n",
    "end = time.perf_counter()\n",
    "\n",
    "print(f\"Finished in {round(end - start , 4)} second(s).\")\n"
   ]
  },
  {
   "cell_type": "code",
   "execution_count": null,
   "metadata": {},
   "outputs": [],
   "source": []
  },
  {
   "cell_type": "markdown",
   "metadata": {},
   "source": [
    "### Nested Loops Method "
   ]
  },
  {
   "cell_type": "code",
   "execution_count": 13,
   "metadata": {},
   "outputs": [],
   "source": [
    "def matrix_multiplication(mat1 , mat2) :\n",
    "\n",
    "    mulmat = np.zeros((len(mat1) , len(mat2[0])) , np.int8)\n",
    "    \n",
    "    for i in range(len(mat1)) :\n",
    "        for j in range(len(mat2[0])) :\n",
    "            calculateCell(mat1 , mat2 , [i,j] , mulmat)\n",
    "\n",
    "    return mulmat\n",
    "\n",
    "\n"
   ]
  },
  {
   "cell_type": "code",
   "execution_count": 14,
   "metadata": {},
   "outputs": [
    {
     "name": "stdout",
     "output_type": "stream",
     "text": [
      "[[ 35  20  29]\n",
      " [ 80  53  74]\n",
      " [125  86 119]]\n",
      "Finished in 9.0295 second(s).\n"
     ]
    }
   ],
   "source": [
    "start = time.perf_counter()\n",
    "mulmat = matrix_multiplication(mat1 , mat2)\n",
    "print(mulmat)\n",
    "\n",
    "end = time.perf_counter()\n",
    "\n",
    "print(f\"Finished in {round(end - start , 4)} second(s).\")"
   ]
  },
  {
   "cell_type": "markdown",
   "metadata": {},
   "source": [
    "### Multithreading Matrix Multiplication"
   ]
  },
  {
   "cell_type": "code",
   "execution_count": 7,
   "metadata": {},
   "outputs": [],
   "source": [
    "import threading\n",
    "import concurrent.futures \n",
    "import numpy as np\n",
    "import time"
   ]
  },
  {
   "cell_type": "markdown",
   "metadata": {},
   "source": [
    "Using threading.thread() from threading module "
   ]
  },
  {
   "cell_type": "code",
   "execution_count": 16,
   "metadata": {},
   "outputs": [],
   "source": [
    "def multithreading_matrix_multiplication1(mat1 , mat2) :\n",
    "    threads = []\n",
    "\n",
    "    mulmat = np.zeros((len(mat1[0]) , len(mat2)) , dtype = np.int8)\n",
    "    for i in range(len(mat1[0])) :\n",
    "        for j in range(len(mat2)) :\n",
    "            th = threading.Thread(target = calculateCell , args= [mat1 , mat2 , [i , j] , mulmat])\n",
    "            th.start()\n",
    "            threads.append(th)\n",
    "\n",
    "    for th in threads :\n",
    "        th.join()\n",
    "    # it will wait till all the threads are executed\n",
    "    \n",
    "    return mulmat"
   ]
  },
  {
   "cell_type": "code",
   "execution_count": 17,
   "metadata": {},
   "outputs": [
    {
     "name": "stdout",
     "output_type": "stream",
     "text": [
      "[[ 35  20  29]\n",
      " [ 80  53  74]\n",
      " [125  86 119]]\n",
      "Finished in 1.0072 second(s).\n"
     ]
    }
   ],
   "source": [
    "start = time.perf_counter()\n",
    "print(multithreading_matrix_multiplication1(mat1 , mat2))\n",
    "end = time.perf_counter()\n",
    "\n",
    "print(f\"Finished in {round(end - start , 4)} second(s).\")"
   ]
  },
  {
   "cell_type": "markdown",
   "metadata": {},
   "source": [
    "Using ThreadPoolExecuter() from concurrent.futures module"
   ]
  },
  {
   "cell_type": "code",
   "execution_count": null,
   "metadata": {},
   "outputs": [],
   "source": [
    "\n",
    "def multithreading_matrix_multiplication2(mat1 , mat2) :\n",
    "\n",
    "    threads = []\n",
    "    mulmat = np.zeros((len(mat1[0]) , len(mat2)),dtype = np.int8)\n",
    "    \n",
    "    with concurrent.futures.ThreadPoolExecutor() as executer : \n",
    "        for i in range(len(mat1[0])) :\n",
    "            for j in range(len(mat2)) :\n",
    "                threads.append(executer.submit(calculateCell , mat1 , mat2 , [i,j] , mulmat))\n",
    "\n",
    "    return mulmat\n",
    "                \n"
   ]
  },
  {
   "cell_type": "code",
   "execution_count": null,
   "metadata": {},
   "outputs": [
    {
     "name": "stdout",
     "output_type": "stream",
     "text": [
      "[[ 35  20  29]\n",
      " [ 80  53  74]\n",
      " [125  86 119]]\n",
      "Finished in 1.0061 second(s).\n"
     ]
    }
   ],
   "source": [
    "start = time.perf_counter()\n",
    "print(multithreading_matrix_multiplication2(mat1 , mat2))\n",
    "end = time.perf_counter()\n",
    "\n",
    "print(f\"Finished in {round(end - start , 4)} second(s).\")\n"
   ]
  }
 ],
 "metadata": {
  "kernelspec": {
   "display_name": "Python 3.9.6 64-bit",
   "language": "python",
   "name": "python3"
  },
  "language_info": {
   "codemirror_mode": {
    "name": "ipython",
    "version": 3
   },
   "file_extension": ".py",
   "mimetype": "text/x-python",
   "name": "python",
   "nbconvert_exporter": "python",
   "pygments_lexer": "ipython3",
   "version": "3.9.6"
  },
  "orig_nbformat": 4,
  "vscode": {
   "interpreter": {
    "hash": "31f2aee4e71d21fbe5cf8b01ff0e069b9275f58929596ceb00d14d90e3e16cd6"
   }
  }
 },
 "nbformat": 4,
 "nbformat_minor": 2
}
