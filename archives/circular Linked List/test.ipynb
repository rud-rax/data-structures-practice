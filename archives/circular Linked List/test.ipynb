{
 "cells": [
  {
   "cell_type": "code",
   "execution_count": 1,
   "metadata": {},
   "outputs": [],
   "source": [
    "import circularLinkedList as cll"
   ]
  },
  {
   "cell_type": "code",
   "execution_count": null,
   "metadata": {},
   "outputs": [],
   "source": []
  },
  {
   "attachments": {},
   "cell_type": "markdown",
   "metadata": {},
   "source": [
    "Creating a linked list"
   ]
  },
  {
   "cell_type": "code",
   "execution_count": 17,
   "metadata": {},
   "outputs": [],
   "source": [
    "\n",
    "# creating a cll\n",
    "# 10 - 5 - 15 - 30\n",
    "\n",
    "# cll = CircularLinkedList()\n",
    "\n",
    "head = cll.Node(10)\n",
    "head.next = head\n",
    "# head.next = cll.Node(5)\n",
    "# head.next.next = cll.Node(15)\n",
    "# head.next.next.next = cll.Node(30)\n",
    "# head.next.next.next.next = head"
   ]
  },
  {
   "attachments": {},
   "cell_type": "markdown",
   "metadata": {},
   "source": [
    "Displaying the linked list"
   ]
  },
  {
   "cell_type": "code",
   "execution_count": 11,
   "metadata": {},
   "outputs": [
    {
     "name": "stdout",
     "output_type": "stream",
     "text": [
      "10\n",
      "5\n",
      "15\n",
      "30\n"
     ]
    }
   ],
   "source": [
    "# display the data in cll\n",
    "cll.display(head)"
   ]
  },
  {
   "attachments": {},
   "cell_type": "markdown",
   "metadata": {},
   "source": [
    "Inserting at the beginning of the linked list"
   ]
  },
  {
   "cell_type": "code",
   "execution_count": 12,
   "metadata": {},
   "outputs": [
    {
     "name": "stdout",
     "output_type": "stream",
     "text": [
      "Display after insertion at beginning\n",
      "<circularLinkedList.Node object at 0x10703bdc0>\n",
      "20\n",
      "10\n",
      "5\n",
      "15\n",
      "30\n"
     ]
    }
   ],
   "source": [
    "head = cll.insert_at_beginning2(head,cll.Node(20))\n",
    "print(\"Display after insertion at beginning\")\n",
    "print(head)\n",
    "cll.display(head)"
   ]
  },
  {
   "attachments": {},
   "cell_type": "markdown",
   "metadata": {},
   "source": [
    "Inserting at the end of the linked list"
   ]
  },
  {
   "cell_type": "code",
   "execution_count": 13,
   "metadata": {},
   "outputs": [
    {
     "name": "stdout",
     "output_type": "stream",
     "text": [
      "Display after insertion at end\n",
      "<circularLinkedList.Node object at 0x10703bf10>\n",
      "20\n",
      "10\n",
      "5\n",
      "15\n",
      "30\n",
      "35\n"
     ]
    }
   ],
   "source": [
    "head = cll.insert_at_end(head , cll.Node(35))\n",
    "print(\"Display after insertion at end\")\n",
    "print(head)\n",
    "cll.display(head)"
   ]
  },
  {
   "attachments": {},
   "cell_type": "markdown",
   "metadata": {},
   "source": [
    "Deleting at the head of the linked list"
   ]
  },
  {
   "cell_type": "code",
   "execution_count": 14,
   "metadata": {},
   "outputs": [
    {
     "name": "stdout",
     "output_type": "stream",
     "text": [
      "Display after deleting head\n",
      "<circularLinkedList.Node object at 0x10703bf10>\n",
      "10\n",
      "5\n",
      "15\n",
      "30\n",
      "35\n"
     ]
    }
   ],
   "source": [
    "head = cll.delete_at_head(head)\n",
    "print(\"Display after deleting head\")\n",
    "print(head)\n",
    "cll.display(head)\n"
   ]
  },
  {
   "attachments": {},
   "cell_type": "markdown",
   "metadata": {},
   "source": [
    "Deleting at the kth node from the linked list"
   ]
  },
  {
   "cell_type": "code",
   "execution_count": 19,
   "metadata": {},
   "outputs": [
    {
     "ename": "AttributeError",
     "evalue": "'NoneType' object has no attribute 'next'",
     "output_type": "error",
     "traceback": [
      "\u001b[0;31m---------------------------------------------------------------------------\u001b[0m",
      "\u001b[0;31mAttributeError\u001b[0m                            Traceback (most recent call last)",
      "Cell \u001b[0;32mIn [19], line 3\u001b[0m\n\u001b[1;32m      1\u001b[0m k \u001b[39m=\u001b[39m \u001b[39m2\u001b[39m\n\u001b[0;32m----> 3\u001b[0m head \u001b[39m=\u001b[39m cll\u001b[39m.\u001b[39;49mdelete_at_k(head , k)\n\u001b[1;32m      4\u001b[0m \u001b[39mprint\u001b[39m(\u001b[39mf\u001b[39m\u001b[39m\"\u001b[39m\u001b[39mDisplay after deleting the \u001b[39m\u001b[39m{\u001b[39;00mk\u001b[39m}\u001b[39;00m\u001b[39m th node\u001b[39m\u001b[39m\"\u001b[39m)\n\u001b[1;32m      5\u001b[0m \u001b[39mprint\u001b[39m(head)\n",
      "File \u001b[0;32m~/PROGRAMS/data-structures-practice/circular Linked List/circularLinkedList.py:124\u001b[0m, in \u001b[0;36mdelete_at_k\u001b[0;34m(head, k)\u001b[0m\n\u001b[1;32m    121\u001b[0m     \u001b[39mreturn\u001b[39;00m delete_at_head(head)\n\u001b[1;32m    123\u001b[0m \u001b[39mwhile\u001b[39;00m k :\n\u001b[0;32m--> 124\u001b[0m     curnode \u001b[39m=\u001b[39m curnode\u001b[39m.\u001b[39;49mnext\n\u001b[1;32m    125\u001b[0m     k\u001b[39m-\u001b[39m\u001b[39m=\u001b[39m\u001b[39m1\u001b[39m\n\u001b[1;32m    127\u001b[0m curnode\u001b[39m.\u001b[39mdata \u001b[39m=\u001b[39m curnode\u001b[39m.\u001b[39mnext\u001b[39m.\u001b[39mdata\n",
      "\u001b[0;31mAttributeError\u001b[0m: 'NoneType' object has no attribute 'next'"
     ]
    }
   ],
   "source": [
    "k = 2\n",
    "\n",
    "head = cll.delete_at_k(head , k)\n",
    "print(f\"Display after deleting the {k} th node\")\n",
    "print(head)\n",
    "cll.display(head)"
   ]
  },
  {
   "cell_type": "code",
   "execution_count": null,
   "metadata": {},
   "outputs": [],
   "source": []
  }
 ],
 "metadata": {
  "kernelspec": {
   "display_name": "Python 3",
   "language": "python",
   "name": "python3"
  },
  "language_info": {
   "codemirror_mode": {
    "name": "ipython",
    "version": 3
   },
   "file_extension": ".py",
   "mimetype": "text/x-python",
   "name": "python",
   "nbconvert_exporter": "python",
   "pygments_lexer": "ipython3",
   "version": "3.9.6 (default, Oct 18 2022, 12:41:40) \n[Clang 14.0.0 (clang-1400.0.29.202)]"
  },
  "orig_nbformat": 4,
  "vscode": {
   "interpreter": {
    "hash": "31f2aee4e71d21fbe5cf8b01ff0e069b9275f58929596ceb00d14d90e3e16cd6"
   }
  }
 },
 "nbformat": 4,
 "nbformat_minor": 2
}
