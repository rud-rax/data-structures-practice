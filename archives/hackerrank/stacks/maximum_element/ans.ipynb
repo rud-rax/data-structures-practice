{
 "cells": [
  {
   "cell_type": "code",
   "execution_count": 30,
   "metadata": {},
   "outputs": [],
   "source": [
    "def getMax(operations):\n",
    "    # Write your code here\n",
    "    \n",
    "    arr = []\n",
    "    ans_arr = []\n",
    "    \n",
    "    for op in operations :\n",
    "        \n",
    "        if op[0] == \"1\" :\n",
    "            _,x = op.split()\n",
    "            \n",
    "            \n",
    "            arr.append(x)\n",
    "            if x > max_ele : \n",
    "                max_ele = x\n",
    "            \n",
    "        elif op[0] == \"2\":\n",
    "            x = arr.pop()\n",
    "            if x == max_ele :\n",
    "                max_ele = max(arr)\n",
    "\n",
    "        elif op[0] == \"3\" :\n",
    "\n",
    "            ans_arr.append(max(arr))\n",
    "            print(f\"{max(arr)} {arr}\")\n",
    "            \n",
    "    return ans_arr\n",
    "            "
   ]
  },
  {
   "cell_type": "code",
   "execution_count": 32,
   "metadata": {},
   "outputs": [
    {
     "name": "stdout",
     "output_type": "stream",
     "text": [
      "['1 1', '1 44', '3', '3', '2', '3', '3', '1 3', '1 37', '2', '3', '1 29', '3', '1 73', '1 51', '3', '3', '3', '1 70', '3', '1 8', '2', '1 49', '1 56', '1 81', '2', '1 59', '1 44', '2', '3', '3', '2', '3', '3', '1 4', '3', '1 89', '2', '1 37', '1 50', '1 64', '2', '1 49', '1 35', '1 85', '3', '1 41', '2', '3', '3', '1 86', '3', '1 60', '1 8', '3', '1 100', '3', '1 83', '3', '1 47', '2', '1 78', '2', '1 55', '1 97', '2', '3', '1 40']\n"
     ]
    }
   ],
   "source": [
    "# CHOOSE TEST CASE\n",
    "\n",
    "testfile = r\"test3.txt\"\n",
    "test_input = []\n",
    "with open(testfile) as file :\n",
    "    for line in file.readlines()[1:]:\n",
    "        test_input.append(line.rstrip())\n",
    "\n",
    "\n",
    "\n",
    "print(test_input)\n",
    "operations = test_input"
   ]
  },
  {
   "cell_type": "code",
   "execution_count": 33,
   "metadata": {},
   "outputs": [
    {
     "ename": "UnboundLocalError",
     "evalue": "local variable 'max_ele' referenced before assignment",
     "output_type": "error",
     "traceback": [
      "\u001b[1;31m---------------------------------------------------------------------------\u001b[0m",
      "\u001b[1;31mUnboundLocalError\u001b[0m                         Traceback (most recent call last)",
      "\u001b[1;32m~\\AppData\\Local\\Temp/ipykernel_9072/3758144976.py\u001b[0m in \u001b[0;36m<module>\u001b[1;34m\u001b[0m\n\u001b[1;32m----> 1\u001b[1;33m \u001b[0mprint\u001b[0m\u001b[1;33m(\u001b[0m\u001b[0mgetMax\u001b[0m\u001b[1;33m(\u001b[0m\u001b[0moperations\u001b[0m\u001b[1;33m)\u001b[0m\u001b[1;33m)\u001b[0m\u001b[1;33m\u001b[0m\u001b[1;33m\u001b[0m\u001b[0m\n\u001b[0m\u001b[0;32m      2\u001b[0m \u001b[1;33m\u001b[0m\u001b[0m\n",
      "\u001b[1;32m~\\AppData\\Local\\Temp/ipykernel_9072/1953804990.py\u001b[0m in \u001b[0;36mgetMax\u001b[1;34m(operations)\u001b[0m\n\u001b[0;32m     12\u001b[0m \u001b[1;33m\u001b[0m\u001b[0m\n\u001b[0;32m     13\u001b[0m             \u001b[0marr\u001b[0m\u001b[1;33m.\u001b[0m\u001b[0mappend\u001b[0m\u001b[1;33m(\u001b[0m\u001b[0mx\u001b[0m\u001b[1;33m)\u001b[0m\u001b[1;33m\u001b[0m\u001b[1;33m\u001b[0m\u001b[0m\n\u001b[1;32m---> 14\u001b[1;33m             \u001b[1;32mif\u001b[0m \u001b[0mx\u001b[0m \u001b[1;33m>\u001b[0m \u001b[0mmax_ele\u001b[0m \u001b[1;33m:\u001b[0m\u001b[1;33m\u001b[0m\u001b[1;33m\u001b[0m\u001b[0m\n\u001b[0m\u001b[0;32m     15\u001b[0m                 \u001b[0mmax_ele\u001b[0m \u001b[1;33m=\u001b[0m \u001b[0mx\u001b[0m\u001b[1;33m\u001b[0m\u001b[1;33m\u001b[0m\u001b[0m\n\u001b[0;32m     16\u001b[0m \u001b[1;33m\u001b[0m\u001b[0m\n",
      "\u001b[1;31mUnboundLocalError\u001b[0m: local variable 'max_ele' referenced before assignment"
     ]
    }
   ],
   "source": [
    "print(getMax(operations))\n",
    "\n"
   ]
  },
  {
   "cell_type": "code",
   "execution_count": null,
   "metadata": {},
   "outputs": [],
   "source": [
    "class Stack ():\n",
    "    def __init__(self) :\n",
    "        self.s = []\n",
    "        self.max_ele = None\n",
    "\n",
    "    def push(self,x):\n",
    "        self.s.append(x)\n",
    "        if x > self.max_ele :\n",
    "            self.max_ele = x\n",
    "\n",
    "    def pop(self,x):\n",
    "        x = self.s.pop()\n",
    "        if x == self.max_ele :\n",
    "            self.max_ele\n",
    "\n",
    "    def max(self) :\n",
    "        return max(self.s)\n",
    "\n",
    "    "
   ]
  }
 ],
 "metadata": {
  "interpreter": {
   "hash": "0d591c6e422414675974e227c13f5382000c440fedd3c5006ef2be5d887f0ba7"
  },
  "kernelspec": {
   "display_name": "Python 3.9.7 64-bit",
   "language": "python",
   "name": "python3"
  },
  "language_info": {
   "codemirror_mode": {
    "name": "ipython",
    "version": 3
   },
   "file_extension": ".py",
   "mimetype": "text/x-python",
   "name": "python",
   "nbconvert_exporter": "python",
   "pygments_lexer": "ipython3",
   "version": "3.9.7"
  },
  "orig_nbformat": 4
 },
 "nbformat": 4,
 "nbformat_minor": 2
}
