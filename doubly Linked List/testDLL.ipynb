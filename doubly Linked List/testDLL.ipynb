{
 "cells": [
  {
   "cell_type": "code",
   "execution_count": 14,
   "metadata": {},
   "outputs": [],
   "source": [
    "from doublyLinkedList import *"
   ]
  },
  {
   "cell_type": "code",
   "execution_count": 21,
   "metadata": {},
   "outputs": [],
   "source": [
    "head = Node(10)\n",
    "head.next = Node(20)\n",
    "head.next.next = Node(30)\n",
    "head.next.next.next = Node(40)\n",
    "\n",
    "head.next.prev = head\n",
    "head.next.next.prev = head.next\n",
    "head.next.next.next.prev = head.next.next"
   ]
  },
  {
   "attachments": {},
   "cell_type": "markdown",
   "metadata": {},
   "source": [
    "Creating a Doubly Linked List"
   ]
  },
  {
   "cell_type": "code",
   "execution_count": 32,
   "metadata": {},
   "outputs": [],
   "source": [
    "k = 4 # Number of nodes in DLL\n",
    "\n",
    "\n",
    "elelist = [40,30,20,10]\n",
    "head = None\n",
    "\n",
    "\n",
    "cur = head\n",
    "\n",
    "while k :\n",
    "\n",
    "    if not cur : \n",
    "        cur = Node(elelist[k-1])\n",
    "        head = cur\n",
    "\n",
    "    else :\n",
    "        cur.next = Node(elelist[k-1])\n",
    "        cur.next.prev = cur\n",
    "        cur = cur.next\n",
    "\n",
    "    k-=1\n",
    "\n",
    "\n",
    "\n"
   ]
  },
  {
   "cell_type": "code",
   "execution_count": 23,
   "metadata": {},
   "outputs": [
    {
     "name": "stdout",
     "output_type": "stream",
     "text": [
      "<doublyLinkedList.Node object at 0x106d937c0>\n"
     ]
    }
   ],
   "source": [
    "print(head)"
   ]
  },
  {
   "attachments": {},
   "cell_type": "markdown",
   "metadata": {},
   "source": [
    "Displaying a Doubly Linked List"
   ]
  },
  {
   "cell_type": "code",
   "execution_count": 24,
   "metadata": {},
   "outputs": [
    {
     "name": "stdout",
     "output_type": "stream",
     "text": [
      "10 -> 20 -> 30 -> 40 -> "
     ]
    }
   ],
   "source": [
    "display(head)"
   ]
  },
  {
   "attachments": {},
   "cell_type": "markdown",
   "metadata": {},
   "source": [
    "Inserting at beginning in the Linked List"
   ]
  },
  {
   "cell_type": "code",
   "execution_count": 25,
   "metadata": {},
   "outputs": [
    {
     "name": "stdout",
     "output_type": "stream",
     "text": [
      "0 -> 10 -> 20 -> 30 -> 40 -> "
     ]
    }
   ],
   "source": [
    "# head = None\n",
    "head = insert_at_beginning(head ,0)\n",
    "display(head)"
   ]
  },
  {
   "attachments": {},
   "cell_type": "markdown",
   "metadata": {},
   "source": [
    "Inserting at the end of the Linked List"
   ]
  },
  {
   "cell_type": "code",
   "execution_count": 26,
   "metadata": {},
   "outputs": [
    {
     "name": "stdout",
     "output_type": "stream",
     "text": [
      "0 -> 10 -> 20 -> 30 -> 40 -> 50 -> "
     ]
    }
   ],
   "source": [
    "head = insert_at_end(head , 50)\n",
    "display(head)"
   ]
  },
  {
   "attachments": {},
   "cell_type": "markdown",
   "metadata": {},
   "source": [
    "Deleting the head of DLL"
   ]
  },
  {
   "cell_type": "code",
   "execution_count": 8,
   "metadata": {},
   "outputs": [
    {
     "name": "stdout",
     "output_type": "stream",
     "text": [
      "10 -> 20 -> 30 -> 40 -> 50 -> "
     ]
    }
   ],
   "source": [
    "\n",
    "head = delete_head(head)\n",
    "display(head)"
   ]
  },
  {
   "cell_type": "code",
   "execution_count": 9,
   "metadata": {},
   "outputs": [
    {
     "name": "stdout",
     "output_type": "stream",
     "text": [
      "No elements in the Doubly Linked List\n"
     ]
    }
   ],
   "source": [
    "head = Node(6)\n",
    "head = delete_head(head)\n",
    "display(head)"
   ]
  },
  {
   "cell_type": "code",
   "execution_count": 10,
   "metadata": {},
   "outputs": [
    {
     "name": "stdout",
     "output_type": "stream",
     "text": [
      "No elements in linked list present to delete.\n",
      "No elements in the Doubly Linked List\n"
     ]
    }
   ],
   "source": [
    "head = None\n",
    "head = delete_head(head)\n",
    "display(head)"
   ]
  },
  {
   "attachments": {},
   "cell_type": "markdown",
   "metadata": {},
   "source": [
    "Deleting the last node of the DLL"
   ]
  },
  {
   "cell_type": "code",
   "execution_count": 27,
   "metadata": {},
   "outputs": [
    {
     "name": "stdout",
     "output_type": "stream",
     "text": [
      "0 -> 10 -> 20 -> 30 -> 40 -> "
     ]
    }
   ],
   "source": [
    "head = delete_last_node(head)\n",
    "display(head)"
   ]
  },
  {
   "cell_type": "code",
   "execution_count": 12,
   "metadata": {},
   "outputs": [
    {
     "name": "stdout",
     "output_type": "stream",
     "text": [
      "No elements in linked list present to delete.\n",
      "No elements in the Doubly Linked List\n"
     ]
    }
   ],
   "source": [
    "head = None\n",
    "head = delete_last_node(head)\n",
    "display(head)\n"
   ]
  },
  {
   "cell_type": "code",
   "execution_count": 13,
   "metadata": {},
   "outputs": [
    {
     "name": "stdout",
     "output_type": "stream",
     "text": [
      "No elements in the Doubly Linked List\n"
     ]
    }
   ],
   "source": [
    "head = Node(10)\n",
    "head = delete_last_node(head)\n",
    "display(head)"
   ]
  },
  {
   "attachments": {},
   "cell_type": "markdown",
   "metadata": {},
   "source": [
    "Reverse the DLL"
   ]
  },
  {
   "cell_type": "code",
   "execution_count": 33,
   "metadata": {},
   "outputs": [
    {
     "name": "stdout",
     "output_type": "stream",
     "text": [
      "40 -> 30 -> 20 -> 10 -> "
     ]
    }
   ],
   "source": [
    "head = reverse(head)\n",
    "display(head)"
   ]
  },
  {
   "cell_type": "code",
   "execution_count": 30,
   "metadata": {},
   "outputs": [
    {
     "name": "stdout",
     "output_type": "stream",
     "text": [
      "Doubly Linked List is empty.\n",
      "No elements in the Doubly Linked List\n"
     ]
    }
   ],
   "source": [
    "head = None\n",
    "head = reverse(head)\n",
    "display(head)"
   ]
  },
  {
   "cell_type": "code",
   "execution_count": 31,
   "metadata": {},
   "outputs": [
    {
     "name": "stdout",
     "output_type": "stream",
     "text": [
      "10 -> "
     ]
    }
   ],
   "source": [
    "head = Node(10)\n",
    "head = reverse(head)\n",
    "display(head)"
   ]
  },
  {
   "cell_type": "code",
   "execution_count": null,
   "metadata": {},
   "outputs": [],
   "source": []
  }
 ],
 "metadata": {
  "kernelspec": {
   "display_name": "Python 3",
   "language": "python",
   "name": "python3"
  },
  "language_info": {
   "codemirror_mode": {
    "name": "ipython",
    "version": 3
   },
   "file_extension": ".py",
   "mimetype": "text/x-python",
   "name": "python",
   "nbconvert_exporter": "python",
   "pygments_lexer": "ipython3",
   "version": "3.9.6"
  },
  "orig_nbformat": 4,
  "vscode": {
   "interpreter": {
    "hash": "31f2aee4e71d21fbe5cf8b01ff0e069b9275f58929596ceb00d14d90e3e16cd6"
   }
  }
 },
 "nbformat": 4,
 "nbformat_minor": 2
}
