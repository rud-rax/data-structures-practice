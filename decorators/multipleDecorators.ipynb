{
 "cells": [
  {
   "cell_type": "code",
   "execution_count": 3,
   "metadata": {},
   "outputs": [],
   "source": [
    "import logging\n",
    "import time\n",
    "import datetime\n",
    "import random\n",
    "import concurrent.futures\n"
   ]
  },
  {
   "cell_type": "code",
   "execution_count": 4,
   "metadata": {},
   "outputs": [],
   "source": [
    "\n",
    "def functionTimer(function) :\n",
    "    def wrapper(*args):\n",
    "        start = time.perf_counter()\n",
    "        function(*args)\n",
    "        stop = time.perf_counter()\n",
    "\n",
    "        print(f\"Execution time = {round(stop - start , 2)} secs.\")\n",
    "\n",
    "    return wrapper"
   ]
  },
  {
   "cell_type": "code",
   "execution_count": 5,
   "metadata": {},
   "outputs": [],
   "source": [
    "def logData(function) :\n",
    "    logging.basicConfig(filename = r\"user.log\" , level= logging.INFO)\n",
    "    \n",
    "    def wrapper(*args) :\n",
    "        logging.info(f\"USER = {args[0]} logged in at TIME = {datetime.datetime.now()}\")\n",
    "        print(\"Login Successful.\")\n",
    "        function(*args)\n",
    "\n",
    "    return wrapper"
   ]
  },
  {
   "cell_type": "code",
   "execution_count": 6,
   "metadata": {},
   "outputs": [],
   "source": [
    "def greetUser(function) :\n",
    "\n",
    "    greetMessageList = [\"Hello, \" , \"Hey! \" , \"Hi, \", \"Yo ! \" , \"Greetings, \" , \"Namaste,\" , \"Hola, \" , \"Konichiwa,\"]\n",
    "    introMessageList = [\"I am {} \", \"My name is {} \", \"Myself {} \", \"Mera naam {} hai \" , \"I am called by the name {} \", \"I am addressed by the name {}\", \"{} is my name \"]\n",
    "    def wrapper(*args) :\n",
    "        greetMessage = random.choice(greetMessageList)\n",
    "        introMessage = random.choice(introMessageList)\n",
    "        introMessage = introMessage.format(args[0])\n",
    "        print(greetMessage + introMessage)\n",
    "        function(*args)\n",
    "        \n",
    "\n",
    "    return wrapper "
   ]
  },
  {
   "cell_type": "code",
   "execution_count": 7,
   "metadata": {},
   "outputs": [],
   "source": [
    "@functionTimer\n",
    "@greetUser\n",
    "@logData\n",
    "def userInfo(name , age) :\n",
    "    time.sleep(5)\n",
    "    print(f\"NAME = {name} AGE = {age}\")\n",
    "\n",
    "    "
   ]
  },
  {
   "cell_type": "code",
   "execution_count": 8,
   "metadata": {},
   "outputs": [
    {
     "name": "stdout",
     "output_type": "stream",
     "text": [
      "Konichiwa,I am called by the name Jerry \n",
      "Login Successful.\n",
      "NAME = Jerry AGE = 4\n",
      "Execution time = 5.01 secs.\n"
     ]
    }
   ],
   "source": [
    "userInfo(\"Jerry\" , 4)\n"
   ]
  },
  {
   "cell_type": "code",
   "execution_count": 9,
   "metadata": {},
   "outputs": [],
   "source": [
    "userList = [(\"Jerry\" , 4),\n",
    "(\"Bond\" , 45),\n",
    "(\"Bill\" , 79),\n",
    "(\"Elon\" , 51),\n",
    "(\"Khaby\" , 26),\n",
    "(\"Ada\" , 89),\n",
    "(\"Han\" , 29)]\n"
   ]
  },
  {
   "attachments": {},
   "cell_type": "markdown",
   "metadata": {},
   "source": [
    "Used Multithreading to implement decorators"
   ]
  },
  {
   "cell_type": "code",
   "execution_count": 10,
   "metadata": {},
   "outputs": [
    {
     "name": "stdout",
     "output_type": "stream",
     "text": [
      "Hi, Jerry is my name \n",
      "Hola, Mera naam Bond hai \n",
      "Login Successful.\n",
      "Namaste,Myself Bill \n",
      "Login Successful.\n",
      "Hello, Myself Elon \n",
      "Hi, Myself Khaby \n",
      "Login Successful.\n",
      "Login Successful.\n",
      "Login Successful.\n",
      "Hola, Mera naam Ada hai \n",
      "Login Successful.\n",
      "Hey! Mera naam Han hai \n",
      "Login Successful.\n",
      "NAME = Bond AGE = 45NAME = Jerry AGE = 4\n",
      "Execution time = 5.01 secs.\n",
      "NAME = Han AGE = 29\n",
      "Execution time = 5.0 secs.\n",
      "NAME = Khaby AGE = 26\n",
      "Execution time = 5.01 secs.\n",
      "NAME = Elon AGE = 51\n",
      "Execution time = 5.01 secs.\n",
      "NAME = Ada AGE = 89\n",
      "Execution time = 5.01 secs.\n",
      "\n",
      "Execution time = 5.01 secs.\n",
      "NAME = Bill AGE = 79\n",
      "Execution time = 5.01 secs.\n"
     ]
    }
   ],
   "source": [
    "\n",
    "with concurrent.futures.ThreadPoolExecutor() as executor :\n",
    "    for user,age in userList :\n",
    "        executor.submit(userInfo,user,age)\n",
    "\n"
   ]
  },
  {
   "cell_type": "code",
   "execution_count": null,
   "metadata": {},
   "outputs": [],
   "source": [
    "    "
   ]
  }
 ],
 "metadata": {
  "kernelspec": {
   "display_name": "Python 3",
   "language": "python",
   "name": "python3"
  },
  "language_info": {
   "codemirror_mode": {
    "name": "ipython",
    "version": 3
   },
   "file_extension": ".py",
   "mimetype": "text/x-python",
   "name": "python",
   "nbconvert_exporter": "python",
   "pygments_lexer": "ipython3",
   "version": "3.9.6"
  },
  "orig_nbformat": 4,
  "vscode": {
   "interpreter": {
    "hash": "31f2aee4e71d21fbe5cf8b01ff0e069b9275f58929596ceb00d14d90e3e16cd6"
   }
  }
 },
 "nbformat": 4,
 "nbformat_minor": 2
}
