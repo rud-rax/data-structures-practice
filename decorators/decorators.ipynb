{
 "cells": [
  {
   "attachments": {},
   "cell_type": "markdown",
   "metadata": {},
   "source": [
    "Syntax of a nested function in Python"
   ]
  },
  {
   "cell_type": "code",
   "execution_count": 1,
   "metadata": {},
   "outputs": [
    {
     "name": "stdout",
     "output_type": "stream",
     "text": [
      "Hi\n"
     ]
    }
   ],
   "source": [
    "\n",
    "\n",
    "def outer_function() :\n",
    "    message = \"Hi\"\n",
    "\n",
    "    def inner_function() :\n",
    "        print(message)\n",
    "\n",
    "    return inner_function()\n",
    "\n",
    "outer_function()\n"
   ]
  },
  {
   "attachments": {},
   "cell_type": "markdown",
   "metadata": {},
   "source": [
    "The decorator function"
   ]
  },
  {
   "cell_type": "code",
   "execution_count": 26,
   "metadata": {},
   "outputs": [],
   "source": [
    "def decorator_function(original_function) :\n",
    "    def wrapper_function() :\n",
    "        print(f\"Wrapper function executed before running {original_function.__name__}\")\n",
    "        return original_function()\n",
    "    print(\"Decorator function executed before calling wrapper function\")\n",
    "    return wrapper_function\n",
    "\n",
    "\n",
    "\n"
   ]
  },
  {
   "attachments": {},
   "cell_type": "markdown",
   "metadata": {},
   "source": [
    "Running Decorator function on the display function without using \"@\""
   ]
  },
  {
   "cell_type": "code",
   "execution_count": 30,
   "metadata": {},
   "outputs": [
    {
     "name": "stdout",
     "output_type": "stream",
     "text": [
      "Decorator function executed before calling wrapper function\n",
      "Wrapper function executed before running display\n",
      "Displaying text\n"
     ]
    }
   ],
   "source": [
    "def display() :\n",
    "    print(\"Displaying text\")\n",
    "\n",
    "display = decorator_function(display)\n",
    "display()"
   ]
  },
  {
   "attachments": {},
   "cell_type": "markdown",
   "metadata": {},
   "source": [
    "Running Decorator function on the display function using \"@\""
   ]
  },
  {
   "cell_type": "code",
   "execution_count": 31,
   "metadata": {},
   "outputs": [
    {
     "name": "stdout",
     "output_type": "stream",
     "text": [
      "Decorator function executed before calling wrapper function\n",
      "Wrapper function executed before running display\n",
      "Displaying text\n"
     ]
    }
   ],
   "source": [
    "@decorator_function\n",
    "def display() :\n",
    "    print(\"Displaying text\")\n",
    "\n",
    "display()\n",
    "\n"
   ]
  },
  {
   "attachments": {},
   "cell_type": "markdown",
   "metadata": {},
   "source": [
    "Decorators using function parameters"
   ]
  },
  {
   "cell_type": "code",
   "execution_count": 33,
   "metadata": {},
   "outputs": [
    {
     "name": "stdout",
     "output_type": "stream",
     "text": [
      "I am Rud and my age is 21.\n"
     ]
    }
   ],
   "source": [
    "\n",
    "def display_info(name , age) :\n",
    "    print(f\"I am {name} and my age is {age}.\")\n",
    "\n",
    "display_info(\"Rud\" , 21)"
   ]
  },
  {
   "cell_type": "code",
   "execution_count": 35,
   "metadata": {},
   "outputs": [
    {
     "name": "stdout",
     "output_type": "stream",
     "text": [
      "Decorator function executed before calling wrapper function\n"
     ]
    },
    {
     "ename": "TypeError",
     "evalue": "wrapper_function() takes 0 positional arguments but 2 were given",
     "output_type": "error",
     "traceback": [
      "\u001b[0;31m---------------------------------------------------------------------------\u001b[0m",
      "\u001b[0;31mTypeError\u001b[0m                                 Traceback (most recent call last)",
      "Cell \u001b[0;32mIn [35], line 5\u001b[0m\n\u001b[1;32m      1\u001b[0m \u001b[39m@decorator_function\u001b[39m\n\u001b[1;32m      2\u001b[0m \u001b[39mdef\u001b[39;00m \u001b[39mdisplay_info\u001b[39m(name , age) :\n\u001b[1;32m      3\u001b[0m     \u001b[39mprint\u001b[39m(\u001b[39mf\u001b[39m\u001b[39m\"\u001b[39m\u001b[39mI am \u001b[39m\u001b[39m{\u001b[39;00mname\u001b[39m}\u001b[39;00m\u001b[39m and my age is \u001b[39m\u001b[39m{\u001b[39;00mage\u001b[39m}\u001b[39;00m\u001b[39m.\u001b[39m\u001b[39m\"\u001b[39m)\n\u001b[0;32m----> 5\u001b[0m display_info(\u001b[39m\"\u001b[39;49m\u001b[39mRud\u001b[39;49m\u001b[39m\"\u001b[39;49m , \u001b[39m21\u001b[39;49m)\n",
      "\u001b[0;31mTypeError\u001b[0m: wrapper_function() takes 0 positional arguments but 2 were given"
     ]
    }
   ],
   "source": [
    "@decorator_function\n",
    "def display_info(name , age) :\n",
    "    print(f\"I am {name} and my age is {age}.\")\n",
    "\n",
    "display_info(\"Rud\" , 21)\n",
    "# Wrapper function takes 0 arguments hence update the wrapper function to take multiple arguments."
   ]
  },
  {
   "cell_type": "code",
   "execution_count": 38,
   "metadata": {},
   "outputs": [
    {
     "name": "stdout",
     "output_type": "stream",
     "text": [
      "Decorator function executed before calling wrapper function\n",
      "Wrapper function executed before running display_info\n",
      "A person named Rud will tell his age...\n",
      "I am Rud and my age is 21.\n"
     ]
    }
   ],
   "source": [
    "def decorator_function(original_function) :\n",
    "    def wrapper_function(*args, **kwargs) :\n",
    "        print(f\"Wrapper function executed before running {original_function.__name__}\")\n",
    "        print(f\"A person named {args[0]} will tell his age...\")\n",
    "        return original_function(*args , **kwargs)\n",
    "    print(\"Decorator function executed before calling wrapper function\")\n",
    "    return wrapper_function\n",
    "\n",
    "\n",
    "@decorator_function\n",
    "def display_info(name , age) :\n",
    "    print(f\"I am {name} and my age is {age}.\")\n",
    "\n",
    "display_info(\"Rud\" , 21)\n",
    "# Wrapper function takes 0 arguments hence update the wrapper function to take multiple arguments."
   ]
  },
  {
   "attachments": {},
   "cell_type": "markdown",
   "metadata": {},
   "source": [
    "Class Decorator"
   ]
  },
  {
   "cell_type": "code",
   "execution_count": 40,
   "metadata": {},
   "outputs": [
    {
     "name": "stdout",
     "output_type": "stream",
     "text": [
      "Wrapper function is executed before the display_info is called\n",
      "Hi , I am Rud and my age is 21\n"
     ]
    }
   ],
   "source": [
    " \n",
    "class decorator_class(object) :\n",
    "    def __init__(self , original_function) : \n",
    "        self.original_function = original_function\n",
    "\n",
    "    def __call__(self , *args , **kwargs) :\n",
    "        print(f\"Wrapper function is executed before the {self.original_function.__name__} is called\")\n",
    "        print(f\"A person named {args[0]} will tell his age .. \")\n",
    "        return self.original_function(*args , **kwargs)\n",
    "\n",
    "@decorator_class\n",
    "def display_info(name , age) :\n",
    "    print(f\"Hi , I am {name} and my age is {age}\")\n",
    "\n",
    "display_info(\"Rud\" , 21)"
   ]
  },
  {
   "cell_type": "code",
   "execution_count": null,
   "metadata": {},
   "outputs": [],
   "source": []
  }
 ],
 "metadata": {
  "kernelspec": {
   "display_name": "Python 3",
   "language": "python",
   "name": "python3"
  },
  "language_info": {
   "codemirror_mode": {
    "name": "ipython",
    "version": 3
   },
   "file_extension": ".py",
   "mimetype": "text/x-python",
   "name": "python",
   "nbconvert_exporter": "python",
   "pygments_lexer": "ipython3",
   "version": "3.9.6 (default, Oct 18 2022, 12:41:40) \n[Clang 14.0.0 (clang-1400.0.29.202)]"
  },
  "orig_nbformat": 4,
  "vscode": {
   "interpreter": {
    "hash": "31f2aee4e71d21fbe5cf8b01ff0e069b9275f58929596ceb00d14d90e3e16cd6"
   }
  }
 },
 "nbformat": 4,
 "nbformat_minor": 2
}
