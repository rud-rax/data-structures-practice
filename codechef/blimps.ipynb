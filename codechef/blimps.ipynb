{
 "cells": [
  {
   "cell_type": "code",
   "execution_count": 2,
   "metadata": {},
   "outputs": [],
   "source": [
    "import math"
   ]
  },
  {
   "cell_type": "code",
   "execution_count": 1,
   "metadata": {},
   "outputs": [
    {
     "ename": "ValueError",
     "evalue": "invalid literal for int() with base 10: '3 4 4 4 1 5 4 4 5 4 3 1 4 3 3 5 4 3 1 3 1 3 9'",
     "output_type": "error",
     "traceback": [
      "\u001b[1;31m---------------------------------------------------------------------------\u001b[0m",
      "\u001b[1;31mValueError\u001b[0m                                Traceback (most recent call last)",
      "\u001b[1;32m~\\AppData\\Local\\Temp/ipykernel_8680/2226725464.py\u001b[0m in \u001b[0;36m<module>\u001b[1;34m\u001b[0m\n\u001b[0;32m      1\u001b[0m \u001b[1;32mimport\u001b[0m \u001b[0mmath\u001b[0m\u001b[1;33m\u001b[0m\u001b[1;33m\u001b[0m\u001b[0m\n\u001b[1;32m----> 2\u001b[1;33m \u001b[0mt\u001b[0m \u001b[1;33m=\u001b[0m \u001b[0mint\u001b[0m\u001b[1;33m(\u001b[0m\u001b[0minput\u001b[0m\u001b[1;33m(\u001b[0m\u001b[1;33m)\u001b[0m\u001b[1;33m)\u001b[0m\u001b[1;33m\u001b[0m\u001b[1;33m\u001b[0m\u001b[0m\n\u001b[0m\u001b[0;32m      3\u001b[0m \u001b[1;33m\u001b[0m\u001b[0m\n\u001b[0;32m      4\u001b[0m \u001b[1;32mfor\u001b[0m \u001b[0m_\u001b[0m \u001b[1;32min\u001b[0m \u001b[0mrange\u001b[0m\u001b[1;33m(\u001b[0m\u001b[0mt\u001b[0m\u001b[1;33m)\u001b[0m \u001b[1;33m:\u001b[0m\u001b[1;33m\u001b[0m\u001b[1;33m\u001b[0m\u001b[0m\n\u001b[0;32m      5\u001b[0m     \u001b[0mn\u001b[0m\u001b[1;33m,\u001b[0m\u001b[0mx\u001b[0m\u001b[1;33m,\u001b[0m\u001b[0my\u001b[0m \u001b[1;33m=\u001b[0m \u001b[0mlist\u001b[0m\u001b[1;33m(\u001b[0m\u001b[0mmap\u001b[0m\u001b[1;33m(\u001b[0m\u001b[0mint\u001b[0m\u001b[1;33m,\u001b[0m\u001b[0minput\u001b[0m\u001b[1;33m(\u001b[0m\u001b[1;33m)\u001b[0m\u001b[1;33m.\u001b[0m\u001b[0mrstrip\u001b[0m\u001b[1;33m(\u001b[0m\u001b[1;33m)\u001b[0m\u001b[1;33m.\u001b[0m\u001b[0msplit\u001b[0m\u001b[1;33m(\u001b[0m\u001b[1;33m)\u001b[0m\u001b[1;33m)\u001b[0m\u001b[1;33m)\u001b[0m\u001b[1;33m\u001b[0m\u001b[1;33m\u001b[0m\u001b[0m\n",
      "\u001b[1;31mValueError\u001b[0m: invalid literal for int() with base 10: '3 4 4 4 1 5 4 4 5 4 3 1 4 3 3 5 4 3 1 3 1 3 9'"
     ]
    }
   ],
   "source": [
    "import math\n",
    "t = int(input())\n",
    "\n",
    "for _ in range(t) :\n",
    "    n,x,y = list(map(int,input().rstrip().split()))\n",
    "    \n",
    "    arr = list(map(int,input().rstrip().split()))\n",
    "    \n",
    "    \n",
    "    div = []\n",
    "    div2 = []\n",
    "    \n",
    "    ans = 0\n",
    "    for i in range(len(arr)) :\n",
    "        div.append(math.ceil(arr[i] / y))\n",
    "        div2.append(math.ceil(arr[i] / x))\n",
    "        \n",
    "        ans = min(math.ceil(arr[i] / y) , math.ceil(arr[i] / x))\n",
    "        print(ans)\n",
    "        \n",
    "    print(div)\n",
    "    print(div2)"
   ]
  },
  {
   "cell_type": "code",
   "execution_count": null,
   "metadata": {},
   "outputs": [],
   "source": []
  },
  {
   "cell_type": "code",
   "execution_count": 4,
   "metadata": {},
   "outputs": [
    {
     "name": "stdout",
     "output_type": "stream",
     "text": [
      "1\n",
      "[1, 2, 1, 1]\n",
      "[1, 2, 1, 1]\n"
     ]
    }
   ],
   "source": [
    "\n",
    "\n",
    "\n",
    "# n,x,y = list(map(int,input().rstrip().split()))\n",
    "n,x,y = 4,4,4\n",
    "    \n",
    "# arr = list(map(int,input().rstrip().split()))\n",
    "arr = [1,5,4,4]\n",
    "\n",
    "div = []\n",
    "div2 = []\n",
    "\n",
    "ans = 0\n",
    "for i in range(len(arr)) :\n",
    "    div.append(math.ceil(arr[i] / y))\n",
    "    div2.append(math.ceil(arr[i] / x))\n",
    "    \n",
    "    ans = min(math.ceil(arr[i] / y) , math.ceil(arr[i] / x))\n",
    "    \n",
    "\n",
    "print(ans)\n",
    "    \n",
    "print(div)\n",
    "print(div2)"
   ]
  },
  {
   "cell_type": "code",
   "execution_count": 10,
   "metadata": {},
   "outputs": [],
   "source": [
    "# n,x,y = list(map(int,input().rstrip().split()))\n",
    "n,x,y = 4,4,4\n",
    "    \n",
    "# arr = list(map(int,input().rstrip().split()))\n",
    "arr = [1,5,4,5]\n"
   ]
  },
  {
   "cell_type": "code",
   "execution_count": 12,
   "metadata": {},
   "outputs": [
    {
     "name": "stdout",
     "output_type": "stream",
     "text": [
      "2\n"
     ]
    }
   ],
   "source": [
    "# n,x,y = list(map(int,input().rstrip().split()))\n",
    "\n",
    "# arr = list(map(int,input().rstrip().split()))\n",
    "\n",
    "n,x,y = 5 ,4, 3\n",
    "arr = [1, 4, 3, 3, 5]\n",
    "\n",
    "\n",
    "# div = []\n",
    "# div2 = []\n",
    "\n",
    "\n",
    "\n",
    "ans = 0\n",
    "for i in range(len(arr)) :\n",
    "    # div.append(math.ceil(arr[i] / y))\n",
    "    # div2.append(math.ceil(arr[i] / x))\n",
    "    \n",
    "    if min(math.ceil(arr[i] / y) , math.ceil(arr[i] / x)) > ans :\n",
    "        ans = min(math.ceil(arr[i] / y) , math.ceil(arr[i] / x))\n",
    "\n",
    "print(ans)"
   ]
  },
  {
   "cell_type": "code",
   "execution_count": null,
   "metadata": {},
   "outputs": [],
   "source": []
  }
 ],
 "metadata": {
  "kernelspec": {
   "display_name": "Python 3.9.7 64-bit",
   "language": "python",
   "name": "python3"
  },
  "language_info": {
   "codemirror_mode": {
    "name": "ipython",
    "version": 3
   },
   "file_extension": ".py",
   "mimetype": "text/x-python",
   "name": "python",
   "nbconvert_exporter": "python",
   "pygments_lexer": "ipython3",
   "version": "3.9.7"
  },
  "orig_nbformat": 4,
  "vscode": {
   "interpreter": {
    "hash": "0d591c6e422414675974e227c13f5382000c440fedd3c5006ef2be5d887f0ba7"
   }
  }
 },
 "nbformat": 4,
 "nbformat_minor": 2
}
