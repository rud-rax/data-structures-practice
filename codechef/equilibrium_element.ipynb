{
 "cells": [
  {
   "cell_type": "code",
   "execution_count": 1,
   "metadata": {},
   "outputs": [],
   "source": [
    "input = [1,7,5,2,6]\n",
    "\n",
    "\n"
   ]
  },
  {
   "cell_type": "code",
   "execution_count": 20,
   "metadata": {},
   "outputs": [],
   "source": [
    "input = [10,1,1,9]"
   ]
  },
  {
   "cell_type": "code",
   "execution_count": 25,
   "metadata": {},
   "outputs": [
    {
     "data": {
      "text/plain": [
       "5"
      ]
     },
     "execution_count": 25,
     "metadata": {},
     "output_type": "execute_result"
    }
   ],
   "source": [
    "def findEquiElement(arr) :\n",
    "    i = 0 \n",
    "    j = len(arr)\n",
    "    si = i\n",
    "    sj = j\n",
    "    while i + 2 < j :\n",
    "\n",
    "        if si > sj :\n",
    "            j-=1\n",
    "            sj += arr[j]\n",
    "\n",
    "        if si < sj :\n",
    "            i+=1\n",
    "            si += arr[i]\n",
    "        # print(f\"SI {si} | SJ {sj} | I {i}| J  {j}\")\n",
    "\n",
    "    ans =  int((i + j) / 2)\n",
    "    return arr[ans - 1 ]\n",
    "\n",
    "input = [1,7,5,2,6]\n",
    "findEquiElement(input)"
   ]
  },
  {
   "cell_type": "code",
   "execution_count": 12,
   "metadata": {},
   "outputs": [],
   "source": [
    "def countChars(input) :\n",
    "    count = {k:0 for k in range(10)}\n",
    "    count['others'] = 0\n",
    "    # print(count)\n",
    "\n",
    "    \n",
    "    for e in input :\n",
    "        if e.isnumeric(): \n",
    "            \n",
    "            count[int(e)] +=1 \n",
    "\n",
    "\n",
    "        else :\n",
    "            count['others'] += 1\n",
    "\n",
    "    for k in count.keys() :\n",
    "        if count[k] != 0 :\n",
    "            print(f\"'{k}'={count[k]}\", end = ', ')\n",
    "    \n",
    "    # print(count)\n",
    "\n",
    "    \n",
    "# countChars(\"raja1123labs\") \n",
    "countChars(\"Buffet101\") \n",
    "\n",
    "    \n"
   ]
  },
  {
   "cell_type": "code",
   "execution_count": 14,
   "metadata": {},
   "outputs": [
    {
     "name": "stdout",
     "output_type": "stream",
     "text": [
      "'0'=1, '1'=2, 'others'=6, "
     ]
    }
   ],
   "source": [
    "\n"
   ]
  },
  {
   "cell_type": "code",
   "execution_count": 15,
   "metadata": {},
   "outputs": [],
   "source": [
    "# A2\n",
    "\n",
    "def solve(text) :\n",
    "    stack = []\n",
    "\n",
    "    open = ['(','{','[']\n",
    "    close = [')' , '}' , ']']\n",
    "\n",
    "    if text == '' :\n",
    "        return True\n",
    "\n",
    "    if text[0] in close or len(text) % 2 != 0 :\n",
    "        return False\n",
    "\n",
    "    for e in text :\n",
    "\n",
    "        if e in open :\n",
    "            stack.append(e)\n",
    "        else :\n",
    "            x = stack.pop()\n",
    "            if open.index(x) != close.index(e) : return False\n",
    "            \n",
    "    if stack == [] :\n",
    "        return True\n",
    "    else :\n",
    "        return False\n",
    "        \n",
    "solve('(){}[]')\n"
   ]
  },
  {
   "cell_type": "code",
   "execution_count": 20,
   "metadata": {},
   "outputs": [
    {
     "data": {
      "text/plain": [
       "True"
      ]
     },
     "execution_count": 20,
     "metadata": {},
     "output_type": "execute_result"
    }
   ],
   "source": [
    "solve('(){}[]')"
   ]
  },
  {
   "cell_type": "code",
   "execution_count": 32,
   "metadata": {},
   "outputs": [],
   "source": [
    "# A3\n",
    "\n",
    "\n",
    " \n",
    "\n",
    "def solveA3(arr) :\n",
    "\n",
    "\n",
    "    def partition(l,h ) :\n",
    "        pv = arr[l]\n",
    "        i = l\n",
    "        j = h \n",
    "\n",
    "        while arr[i] <= pv and i < j :\n",
    "            i+=1\n",
    "        while arr[j] > pv :\n",
    "            j-=1\n",
    "\n",
    "        if i < j :\n",
    "            arr[i],arr[j] = arr[j],arr[i]\n",
    "\n",
    "        arr[j],arr[l] = arr[l],arr[j]\n",
    "        return j\n",
    "\n",
    "    def qsort(l,h) :\n",
    "\n",
    "        if l < h :\n",
    "            x = partition(l,h)\n",
    "            qsort(l,x)\n",
    "            qsort(x+1 , h )\n",
    "\n",
    "    \n",
    "\n",
    "    qsort(0,len(arr)-1)\n",
    "    # print(arr)\n",
    "    return arr[-1] - arr[1]\n",
    "\n",
    "\n",
    "solveA3([14,12,70,15,95,65,22,30])"
   ]
  },
  {
   "cell_type": "code",
   "execution_count": 33,
   "metadata": {},
   "outputs": [
    {
     "data": {
      "text/plain": [
       "81"
      ]
     },
     "execution_count": 33,
     "metadata": {},
     "output_type": "execute_result"
    }
   ],
   "source": []
  },
  {
   "cell_type": "code",
   "execution_count": null,
   "metadata": {},
   "outputs": [],
   "source": []
  }
 ],
 "metadata": {
  "kernelspec": {
   "display_name": "Python 3.9.7 64-bit",
   "language": "python",
   "name": "python3"
  },
  "language_info": {
   "codemirror_mode": {
    "name": "ipython",
    "version": 3
   },
   "file_extension": ".py",
   "mimetype": "text/x-python",
   "name": "python",
   "nbconvert_exporter": "python",
   "pygments_lexer": "ipython3",
   "version": "3.9.7"
  },
  "orig_nbformat": 4,
  "vscode": {
   "interpreter": {
    "hash": "0d591c6e422414675974e227c13f5382000c440fedd3c5006ef2be5d887f0ba7"
   }
  }
 },
 "nbformat": 4,
 "nbformat_minor": 2
}
