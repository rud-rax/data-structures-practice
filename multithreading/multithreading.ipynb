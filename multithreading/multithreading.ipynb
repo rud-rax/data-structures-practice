{
 "cells": [
  {
   "cell_type": "code",
   "execution_count": 1,
   "metadata": {},
   "outputs": [],
   "source": [
    "import threading\n",
    "import time"
   ]
  },
  {
   "cell_type": "code",
   "execution_count": 2,
   "metadata": {},
   "outputs": [],
   "source": [
    "def do():\n",
    "    print(\"Sleeping 1 second...\" , end= \" \")\n",
    "    for i in range(10) : \n",
    "        print(f\"{i}\" , end = \" \")\n",
    "        time.sleep(0.1)\n",
    "\n",
    "    print(\"...Done Sleeping\")\n",
    "\n",
    "    "
   ]
  },
  {
   "cell_type": "markdown",
   "metadata": {},
   "source": [
    "### Without Threading"
   ]
  },
  {
   "cell_type": "code",
   "execution_count": 3,
   "metadata": {},
   "outputs": [
    {
     "name": "stdout",
     "output_type": "stream",
     "text": [
      "Starting Task\n",
      "Sleeping 1 second... 0 1 2 3 4 5 6 7 8 9 ...Done Sleeping\n",
      "Sleeping 1 second... 0 1 2 3 4 5 6 7 8 9 ...Done Sleeping\n",
      "Finished in 2.07 second(s)\n"
     ]
    }
   ],
   "source": [
    "\n",
    "\n",
    "print(\"Starting Task\")\n",
    "start = time.perf_counter()\n",
    "\n",
    "do()\n",
    "do()\n",
    "\n",
    "end = time.perf_counter()\n",
    "\n",
    "print(f\"Finished in {round(end - start , 2)} second(s)\")"
   ]
  },
  {
   "cell_type": "markdown",
   "metadata": {},
   "source": [
    "### With Threading"
   ]
  },
  {
   "cell_type": "code",
   "execution_count": 4,
   "metadata": {},
   "outputs": [
    {
     "name": "stdout",
     "output_type": "stream",
     "text": [
      "Starting Task\n",
      "Sleeping 1 second... 0 Sleeping 1 second... 0 1 1 22  3 3 44  5 5 6 6 7 7 88  9 9 ...Done Sleeping\n",
      "...Done Sleeping\n",
      "Finished in 1.04 second(s)\n"
     ]
    }
   ],
   "source": [
    "\n",
    "\n",
    "print(\"Starting Task\")\n",
    "start = time.perf_counter()\n",
    "\n",
    "# used to initialize the threads\n",
    "t1 = threading.Thread(target = do) \n",
    "t2 = threading.Thread(target = do)\n",
    "\n",
    "# threads are started\n",
    "t1.start()\n",
    "t2.start()\n",
    "\n",
    "# threads are joined so that the main script does not run parallel to the threads\n",
    "# the main script will wait for both the threads to finish executing and the will continue\n",
    "t1.join()\n",
    "t2.join()\n",
    "end = time.perf_counter()\n",
    "\n",
    "print(f\"Finished in {round(end - start , 2)} second(s)\")"
   ]
  },
  {
   "cell_type": "markdown",
   "metadata": {},
   "source": [
    "### Executing Multiple Threads in a Loop"
   ]
  },
  {
   "cell_type": "code",
   "execution_count": 5,
   "metadata": {},
   "outputs": [
    {
     "name": "stdout",
     "output_type": "stream",
     "text": [
      "Starting Task\n",
      "Sleeping 1 second... 0 Sleeping 1 second... 0 Sleeping 1 second... 0 Sleeping 1 second... 0 Sleeping 1 second... 0 Sleeping 1 second... 0 Sleeping 1 second... 0 Sleeping 1 second... 0 Sleeping 1 second... 0 Sleeping 1 second... 0 1 1 1 1 1 1 1 1 1 1 22  2 2 2 2 2 2 2 2 3 3 3 3 3 3 3 3 3 3 44  4 4 4 4 4 4 4 4 5 5 5 5 5 5 5 5 5 5 6 6 6 6 6 6 6 6 6 6 7 7 7 7 7 7 7 7 7 7 8 8 8 8 8 8 8 8 8 8 9 9 9 9 9 9 9 9 9 9 ...Done Sleeping\n",
      "...Done Sleeping\n",
      "...Done Sleeping\n",
      "...Done Sleeping\n",
      "...Done Sleeping\n",
      "...Done Sleeping\n",
      "...Done Sleeping\n",
      "...Done Sleeping\n",
      "...Done Sleeping\n",
      "...Done Sleeping\n",
      "Finished in 1.05 second(s)\n"
     ]
    }
   ],
   "source": [
    "\n",
    "\n",
    "print(\"Starting Task\")\n",
    "start = time.perf_counter()\n",
    "\n",
    "\n",
    "#create a list of threads\n",
    "threads= []\n",
    "\n",
    "# used to initialize the threads in a loop\n",
    "for _ in range(10) : \n",
    "\n",
    "    t = threading.Thread(target = do) \n",
    "    # threads are started\n",
    "    t.start()\n",
    "    # maintain a list of threads by storing in a list\n",
    "    threads.append(t)\n",
    "\n",
    "for thread in threads :\n",
    "    thread.join()\n",
    "\n",
    "\n",
    "\n",
    "\n",
    "\n",
    "# threads are joined so that the main script does not run parallel to the threads\n",
    "# the main script will wait for both the threads to finish executing and the will continue\n",
    "t1.join()\n",
    "\n",
    "end = time.perf_counter()\n",
    "\n",
    "print(f\"Finished in {round(end - start , 2)} second(s)\")"
   ]
  },
  {
   "cell_type": "markdown",
   "metadata": {},
   "source": [
    "### Executing threads of functions with parameters"
   ]
  },
  {
   "cell_type": "code",
   "execution_count": 6,
   "metadata": {},
   "outputs": [],
   "source": [
    "\n",
    "# modified do() to accept a parameter\n",
    "def do(sleeptime = 1):\n",
    "    print(f\"Sleeping {sleeptime} second(s)...\" , end= \" \")\n",
    "    for i in range(sleeptime) : \n",
    "        print(f\"{i}\" , end = \" \")\n",
    "        time.sleep(1)\n",
    "\n",
    "    print(\"...Done Sleeping\")\n",
    "\n",
    "    "
   ]
  },
  {
   "cell_type": "code",
   "execution_count": 14,
   "metadata": {},
   "outputs": [
    {
     "name": "stdout",
     "output_type": "stream",
     "text": [
      "Starting Task\n",
      "Sleeping 5 second(s)... 0 Sleeping 5 second(s)... 0 Sleeping 5 second(s)... 0 Sleeping 5 second(s)... 0 Sleeping 5 second(s)... 0 Sleeping 5 second(s)... 0 Sleeping 5 second(s)... 0 Sleeping 5 second(s)... 0 Sleeping 5 second(s)... 0 Sleeping 5 second(s)... 0 11 1 1 1 1  1 1 1 1 2 2 2 2 2 2 2 2 2 2 33 3 3 3  3 3 3 3 3 44 4 4 4  4 4 4 4 4 Finished in 5.02 second(s)\n"
     ]
    }
   ],
   "source": [
    "\n",
    "\n",
    "print(\"Starting Task\")\n",
    "start = time.perf_counter()\n",
    "\n",
    "\n",
    "#create a list of threads\n",
    "threads= []\n",
    "\n",
    "# used to initialize the threads in a loop\n",
    "for _ in range(10) : \n",
    "\n",
    "    t = threading.Thread(target = do , args = [5]) \n",
    "    # threads are started\n",
    "    t.start()\n",
    "    # maintain a list of threads by storing in a list\n",
    "    threads.append(t)\n",
    "\n",
    "for thread in threads :\n",
    "    thread.join()\n",
    "\n",
    "\n",
    "\n",
    "\n",
    "\n",
    "# threads are joined so that the main script does not run parallel to the threads\n",
    "# the main script will wait for both the threads to finish executing and the will continue\n",
    "# t1.join()\n",
    "\n",
    "end = time.perf_counter()\n",
    "\n",
    "print(f\"Finished in {round(end - start , 2)} second(s)\")"
   ]
  },
  {
   "cell_type": "markdown",
   "metadata": {},
   "source": [
    "### Thread Pool Execution"
   ]
  },
  {
   "cell_type": "code",
   "execution_count": 8,
   "metadata": {},
   "outputs": [],
   "source": [
    "\n",
    "# modified do() to accept a parameter and return some data\n",
    "def do(sleeptime = 1):\n",
    "    print(f\"Sleeping {sleeptime} second(s)...\" , end= \" \")\n",
    "    for i in range(sleeptime) : \n",
    "        print(f\"{i}\" , end = \" \")\n",
    "        time.sleep(1)\n",
    "\n",
    "    return f\"...Done Sleeping for {sleeptime} second(s)\"\n",
    "\n",
    "    "
   ]
  },
  {
   "cell_type": "code",
   "execution_count": 15,
   "metadata": {},
   "outputs": [
    {
     "name": "stdout",
     "output_type": "stream",
     "text": [
      "Starting Task... \n",
      "Sleeping 5 second(s)... 0 1 2 3 4 ...Done Sleeping for 5 second(s)\n",
      "Finished in 5.03 second(s)\n"
     ]
    }
   ],
   "source": [
    "import concurrent.futures\n",
    "\n",
    "\n",
    "print(\"Starting Task... \")\n",
    "start = time.perf_counter()\n",
    "\n",
    "with concurrent.futures.ThreadPoolExecutor() as executer :\n",
    "\n",
    "    f1 = executer.submit(do , 5)\n",
    "\n",
    "    \n",
    "    print(f1.result())\n",
    "\n",
    "end = time.perf_counter()\n",
    "print(f\"Finished in {round(end - start , 2)} second(s)\")\n",
    "    "
   ]
  },
  {
   "cell_type": "markdown",
   "metadata": {},
   "source": [
    "### Multiple Thread Execution Pool"
   ]
  },
  {
   "cell_type": "markdown",
   "metadata": {},
   "source": [
    "Using For Loop"
   ]
  },
  {
   "cell_type": "code",
   "execution_count": 10,
   "metadata": {},
   "outputs": [
    {
     "name": "stdout",
     "output_type": "stream",
     "text": [
      "Starting Task..\n",
      "Sleeping 5 second(s)... 0 Sleeping 5 second(s)... 0 Sleeping 5 second(s)... 0 Sleeping 5 second(s)... 0 Sleeping 5 second(s)... 0 Sleeping 5 second(s)... 0 Sleeping 5 second(s)... 0 Sleeping 5 second(s)... 0 Sleeping 5 second(s)... 0 Sleeping 5 second(s)... 0 1 1 1 1 1 1 1 1 1 1 22  2 2 2 2 2 2 2 2 33  3 3 3 3 3 3 3 3 44 4  4 4 4 4 4 4 4 ...Done Sleeping for 5 second(s)\n",
      "...Done Sleeping for 5 second(s)\n",
      "...Done Sleeping for 5 second(s)\n",
      "...Done Sleeping for 5 second(s)\n",
      "...Done Sleeping for 5 second(s)\n",
      "...Done Sleeping for 5 second(s)\n",
      "...Done Sleeping for 5 second(s)\n",
      "...Done Sleeping for 5 second(s)\n",
      "...Done Sleeping for 5 second(s)\n",
      "...Done Sleeping for 5 second(s)\n",
      "Finished in 5.03 second(s)\n"
     ]
    }
   ],
   "source": [
    "\n",
    "\n",
    "print(\"Starting Task..\")\n",
    "start = time.perf_counter()\n",
    "with concurrent.futures.ThreadPoolExecutor() as executer :\n",
    "\n",
    "    threads = [executer.submit(do , 5) for _ in range(10)]\n",
    "    \n",
    "    for thread in threads :\n",
    "        print(thread.result())\n",
    "    \n",
    "end = time.perf_counter()\n",
    "\n",
    "print(f\"Finished in {round(end - start , 2)} second(s)\")"
   ]
  },
  {
   "cell_type": "markdown",
   "metadata": {},
   "source": [
    "Using concurrent.futures loop"
   ]
  },
  {
   "cell_type": "code",
   "execution_count": 11,
   "metadata": {},
   "outputs": [
    {
     "name": "stdout",
     "output_type": "stream",
     "text": [
      "Starting Task..\n",
      "Sleeping 5 second(s)... 0 Sleeping 4 second(s)... 0 Sleeping 3 second(s)... 0 Sleeping 2 second(s)... 0 Sleeping 1 second(s)... 0 11 1 1 ...Done Sleeping for 1 second(s)\n",
      " 22 ...Done Sleeping for 2 second(s)\n",
      " 2 33 ...Done Sleeping for 3 second(s)\n",
      " 4...Done Sleeping for 4 second(s)\n",
      " ...Done Sleeping for 5 second(s)\n",
      "Finished in 5.03 second(s)\n"
     ]
    }
   ],
   "source": [
    "print(\"Starting Task..\")\n",
    "start = time.perf_counter()\n",
    "\n",
    "with concurrent.futures.ThreadPoolExecutor() as executer :\n",
    "    secsToSleep = [5,4 ,3,2 ,1]\n",
    "    threads = [executer.submit(do , i) for i in secsToSleep]\n",
    "    \n",
    "    for thread in concurrent.futures.as_completed(threads) :\n",
    "        print(thread.result())\n",
    "\n",
    "end = time.perf_counter()\n",
    "print(f\"Finished in {round(end - start , 2)} second(s)\")\n",
    "    "
   ]
  },
  {
   "cell_type": "markdown",
   "metadata": {},
   "source": [
    "To return the results of threads in order of their initialization we use executor.map()"
   ]
  },
  {
   "cell_type": "code",
   "execution_count": 12,
   "metadata": {},
   "outputs": [
    {
     "name": "stdout",
     "output_type": "stream",
     "text": [
      "Starting Task..\n",
      "Sleeping 5 second(s)... 0 Sleeping 4 second(s)... 0 Sleeping 3 second(s)... 0 Sleeping 2 second(s)... 0 Sleeping 1 second(s)... 0 1 1 1 1 2 2 2 33  4 ...Done Sleeping for 5 second(s)\n",
      "...Done Sleeping for 4 second(s)\n",
      "...Done Sleeping for 3 second(s)\n",
      "...Done Sleeping for 2 second(s)\n",
      "...Done Sleeping for 1 second(s)\n",
      "Finished in 5.03 second(s)\n"
     ]
    }
   ],
   "source": [
    "print(\"Starting Task..\")\n",
    "start = time.perf_counter()\n",
    "\n",
    "with concurrent.futures.ThreadPoolExecutor() as executor :\n",
    "    secsToSleep = [5,4,3,2,1]\n",
    "    results = executor.map(do , secsToSleep)\n",
    "\n",
    "    for result in results :\n",
    "        print(result)\n",
    "\n",
    "\n",
    "end = time.perf_counter()\n",
    "print(f\"Finished in {round(end - start , 2)} second(s)\")\n",
    "    "
   ]
  },
  {
   "cell_type": "code",
   "execution_count": null,
   "metadata": {},
   "outputs": [],
   "source": []
  }
 ],
 "metadata": {
  "kernelspec": {
   "display_name": "Python 3.9.6 64-bit",
   "language": "python",
   "name": "python3"
  },
  "language_info": {
   "codemirror_mode": {
    "name": "ipython",
    "version": 3
   },
   "file_extension": ".py",
   "mimetype": "text/x-python",
   "name": "python",
   "nbconvert_exporter": "python",
   "pygments_lexer": "ipython3",
   "version": "3.9.6"
  },
  "orig_nbformat": 4,
  "vscode": {
   "interpreter": {
    "hash": "31f2aee4e71d21fbe5cf8b01ff0e069b9275f58929596ceb00d14d90e3e16cd6"
   }
  }
 },
 "nbformat": 4,
 "nbformat_minor": 2
}
