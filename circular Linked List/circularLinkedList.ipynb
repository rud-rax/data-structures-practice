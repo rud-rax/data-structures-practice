{
 "cells": [
  {
   "cell_type": "code",
   "execution_count": 21,
   "metadata": {},
   "outputs": [],
   "source": [
    "import circularLinkedList as cll"
   ]
  },
  {
   "cell_type": "code",
   "execution_count": null,
   "metadata": {},
   "outputs": [],
   "source": []
  },
  {
   "attachments": {},
   "cell_type": "markdown",
   "metadata": {},
   "source": [
    "Testing Code"
   ]
  },
  {
   "cell_type": "code",
   "execution_count": 22,
   "metadata": {},
   "outputs": [],
   "source": [
    "\n",
    "# creating a cll\n",
    "# 10 - 5 - 15 - 30\n",
    "\n",
    "# cll = CircularLinkedList()\n",
    "\n",
    "head = cll.Node(10)\n",
    "# head.next = head\n",
    "head.next = cll.Node(5)\n",
    "head.next.next = cll.Node(15)\n",
    "head.next.next.next = cll.Node(30)\n",
    "head.next.next.next.next = head"
   ]
  },
  {
   "cell_type": "code",
   "execution_count": 23,
   "metadata": {},
   "outputs": [
    {
     "name": "stdout",
     "output_type": "stream",
     "text": [
      "10\n",
      "5\n",
      "15\n",
      "30\n"
     ]
    }
   ],
   "source": [
    "# display the data in cll\n",
    "cll.display(head)"
   ]
  },
  {
   "cell_type": "code",
   "execution_count": 24,
   "metadata": {},
   "outputs": [
    {
     "name": "stdout",
     "output_type": "stream",
     "text": [
      "Display after insertion at beginning\n",
      "<circularLinkedList.Node object at 0x10701d100>\n",
      "20\n",
      "10\n",
      "5\n",
      "15\n",
      "30\n"
     ]
    }
   ],
   "source": [
    "head = cll.insert_at_beginning2(head,cll.Node(20))\n",
    "print(\"Display after insertion at beginning\")\n",
    "print(head)\n",
    "cll.display(head)"
   ]
  },
  {
   "cell_type": "code",
   "execution_count": 25,
   "metadata": {},
   "outputs": [
    {
     "name": "stdout",
     "output_type": "stream",
     "text": [
      "Display after insertion at end\n",
      "<circularLinkedList.Node object at 0x10701db50>\n",
      "20\n",
      "10\n",
      "5\n",
      "15\n",
      "30\n",
      "35\n"
     ]
    }
   ],
   "source": [
    "head = cll.insert_at_end(head , cll.Node(35))\n",
    "print(\"Display after insertion at end\")\n",
    "print(head)\n",
    "cll.display(head)"
   ]
  },
  {
   "cell_type": "code",
   "execution_count": 26,
   "metadata": {},
   "outputs": [
    {
     "name": "stdout",
     "output_type": "stream",
     "text": [
      "Display after deleting head\n",
      "<circularLinkedList.Node object at 0x10701db50>\n",
      "10\n",
      "5\n",
      "15\n",
      "30\n",
      "35\n"
     ]
    }
   ],
   "source": [
    "head = cll.delete_at_head(head)\n",
    "print(\"Display after deleting head\")\n",
    "print(head)\n",
    "cll.display(head)\n"
   ]
  },
  {
   "cell_type": "code",
   "execution_count": null,
   "metadata": {},
   "outputs": [],
   "source": []
  }
 ],
 "metadata": {
  "kernelspec": {
   "display_name": "Python 3",
   "language": "python",
   "name": "python3"
  },
  "language_info": {
   "codemirror_mode": {
    "name": "ipython",
    "version": 3
   },
   "file_extension": ".py",
   "mimetype": "text/x-python",
   "name": "python",
   "nbconvert_exporter": "python",
   "pygments_lexer": "ipython3",
   "version": "3.9.6"
  },
  "orig_nbformat": 4,
  "vscode": {
   "interpreter": {
    "hash": "31f2aee4e71d21fbe5cf8b01ff0e069b9275f58929596ceb00d14d90e3e16cd6"
   }
  }
 },
 "nbformat": 4,
 "nbformat_minor": 2
}
